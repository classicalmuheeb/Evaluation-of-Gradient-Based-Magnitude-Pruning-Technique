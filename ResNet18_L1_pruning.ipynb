{
  "nbformat": 4,
  "nbformat_minor": 0,
  "metadata": {
    "colab": {
      "provenance": []
    },
    "kernelspec": {
      "name": "python3",
      "display_name": "Python 3"
    },
    "language_info": {
      "name": "python"
    },
    "accelerator": "GPU",
    "gpuClass": "standard",
    "widgets": {
      "application/vnd.jupyter.widget-state+json": {
        "a5b2981401cc4b288797e8cdb7723f80": {
          "model_module": "@jupyter-widgets/controls",
          "model_name": "HBoxModel",
          "model_module_version": "1.5.0",
          "state": {
            "_dom_classes": [],
            "_model_module": "@jupyter-widgets/controls",
            "_model_module_version": "1.5.0",
            "_model_name": "HBoxModel",
            "_view_count": null,
            "_view_module": "@jupyter-widgets/controls",
            "_view_module_version": "1.5.0",
            "_view_name": "HBoxView",
            "box_style": "",
            "children": [
              "IPY_MODEL_cf57d1c5684848dd9640a5e92c60a821",
              "IPY_MODEL_c9bfb501d7f74a03a512d8130d34006f",
              "IPY_MODEL_c9a6fd5542c64c0e93eb28b1d89e003a"
            ],
            "layout": "IPY_MODEL_5bc71a3428fa42f1a16e325e1e970120"
          }
        },
        "cf57d1c5684848dd9640a5e92c60a821": {
          "model_module": "@jupyter-widgets/controls",
          "model_name": "HTMLModel",
          "model_module_version": "1.5.0",
          "state": {
            "_dom_classes": [],
            "_model_module": "@jupyter-widgets/controls",
            "_model_module_version": "1.5.0",
            "_model_name": "HTMLModel",
            "_view_count": null,
            "_view_module": "@jupyter-widgets/controls",
            "_view_module_version": "1.5.0",
            "_view_name": "HTMLView",
            "description": "",
            "description_tooltip": null,
            "layout": "IPY_MODEL_7175cbac841644f39e025cecb6e0f236",
            "placeholder": "​",
            "style": "IPY_MODEL_9780f22be7314ebf8ee4216a2d64735a",
            "value": "100%"
          }
        },
        "c9bfb501d7f74a03a512d8130d34006f": {
          "model_module": "@jupyter-widgets/controls",
          "model_name": "FloatProgressModel",
          "model_module_version": "1.5.0",
          "state": {
            "_dom_classes": [],
            "_model_module": "@jupyter-widgets/controls",
            "_model_module_version": "1.5.0",
            "_model_name": "FloatProgressModel",
            "_view_count": null,
            "_view_module": "@jupyter-widgets/controls",
            "_view_module_version": "1.5.0",
            "_view_name": "ProgressView",
            "bar_style": "success",
            "description": "",
            "description_tooltip": null,
            "layout": "IPY_MODEL_fe50177fdf364568b583ad8fc6a7c79e",
            "max": 170498071,
            "min": 0,
            "orientation": "horizontal",
            "style": "IPY_MODEL_6497aa397fe04ad0ba1a94e2a078ea7d",
            "value": 170498071
          }
        },
        "c9a6fd5542c64c0e93eb28b1d89e003a": {
          "model_module": "@jupyter-widgets/controls",
          "model_name": "HTMLModel",
          "model_module_version": "1.5.0",
          "state": {
            "_dom_classes": [],
            "_model_module": "@jupyter-widgets/controls",
            "_model_module_version": "1.5.0",
            "_model_name": "HTMLModel",
            "_view_count": null,
            "_view_module": "@jupyter-widgets/controls",
            "_view_module_version": "1.5.0",
            "_view_name": "HTMLView",
            "description": "",
            "description_tooltip": null,
            "layout": "IPY_MODEL_00d79c24ef5e4b1eab7aecbbdffe9bb2",
            "placeholder": "​",
            "style": "IPY_MODEL_022b319a1d444c88abe797cf1a0b9003",
            "value": " 170498071/170498071 [00:03&lt;00:00, 54070913.05it/s]"
          }
        },
        "5bc71a3428fa42f1a16e325e1e970120": {
          "model_module": "@jupyter-widgets/base",
          "model_name": "LayoutModel",
          "model_module_version": "1.2.0",
          "state": {
            "_model_module": "@jupyter-widgets/base",
            "_model_module_version": "1.2.0",
            "_model_name": "LayoutModel",
            "_view_count": null,
            "_view_module": "@jupyter-widgets/base",
            "_view_module_version": "1.2.0",
            "_view_name": "LayoutView",
            "align_content": null,
            "align_items": null,
            "align_self": null,
            "border": null,
            "bottom": null,
            "display": null,
            "flex": null,
            "flex_flow": null,
            "grid_area": null,
            "grid_auto_columns": null,
            "grid_auto_flow": null,
            "grid_auto_rows": null,
            "grid_column": null,
            "grid_gap": null,
            "grid_row": null,
            "grid_template_areas": null,
            "grid_template_columns": null,
            "grid_template_rows": null,
            "height": null,
            "justify_content": null,
            "justify_items": null,
            "left": null,
            "margin": null,
            "max_height": null,
            "max_width": null,
            "min_height": null,
            "min_width": null,
            "object_fit": null,
            "object_position": null,
            "order": null,
            "overflow": null,
            "overflow_x": null,
            "overflow_y": null,
            "padding": null,
            "right": null,
            "top": null,
            "visibility": null,
            "width": null
          }
        },
        "7175cbac841644f39e025cecb6e0f236": {
          "model_module": "@jupyter-widgets/base",
          "model_name": "LayoutModel",
          "model_module_version": "1.2.0",
          "state": {
            "_model_module": "@jupyter-widgets/base",
            "_model_module_version": "1.2.0",
            "_model_name": "LayoutModel",
            "_view_count": null,
            "_view_module": "@jupyter-widgets/base",
            "_view_module_version": "1.2.0",
            "_view_name": "LayoutView",
            "align_content": null,
            "align_items": null,
            "align_self": null,
            "border": null,
            "bottom": null,
            "display": null,
            "flex": null,
            "flex_flow": null,
            "grid_area": null,
            "grid_auto_columns": null,
            "grid_auto_flow": null,
            "grid_auto_rows": null,
            "grid_column": null,
            "grid_gap": null,
            "grid_row": null,
            "grid_template_areas": null,
            "grid_template_columns": null,
            "grid_template_rows": null,
            "height": null,
            "justify_content": null,
            "justify_items": null,
            "left": null,
            "margin": null,
            "max_height": null,
            "max_width": null,
            "min_height": null,
            "min_width": null,
            "object_fit": null,
            "object_position": null,
            "order": null,
            "overflow": null,
            "overflow_x": null,
            "overflow_y": null,
            "padding": null,
            "right": null,
            "top": null,
            "visibility": null,
            "width": null
          }
        },
        "9780f22be7314ebf8ee4216a2d64735a": {
          "model_module": "@jupyter-widgets/controls",
          "model_name": "DescriptionStyleModel",
          "model_module_version": "1.5.0",
          "state": {
            "_model_module": "@jupyter-widgets/controls",
            "_model_module_version": "1.5.0",
            "_model_name": "DescriptionStyleModel",
            "_view_count": null,
            "_view_module": "@jupyter-widgets/base",
            "_view_module_version": "1.2.0",
            "_view_name": "StyleView",
            "description_width": ""
          }
        },
        "fe50177fdf364568b583ad8fc6a7c79e": {
          "model_module": "@jupyter-widgets/base",
          "model_name": "LayoutModel",
          "model_module_version": "1.2.0",
          "state": {
            "_model_module": "@jupyter-widgets/base",
            "_model_module_version": "1.2.0",
            "_model_name": "LayoutModel",
            "_view_count": null,
            "_view_module": "@jupyter-widgets/base",
            "_view_module_version": "1.2.0",
            "_view_name": "LayoutView",
            "align_content": null,
            "align_items": null,
            "align_self": null,
            "border": null,
            "bottom": null,
            "display": null,
            "flex": null,
            "flex_flow": null,
            "grid_area": null,
            "grid_auto_columns": null,
            "grid_auto_flow": null,
            "grid_auto_rows": null,
            "grid_column": null,
            "grid_gap": null,
            "grid_row": null,
            "grid_template_areas": null,
            "grid_template_columns": null,
            "grid_template_rows": null,
            "height": null,
            "justify_content": null,
            "justify_items": null,
            "left": null,
            "margin": null,
            "max_height": null,
            "max_width": null,
            "min_height": null,
            "min_width": null,
            "object_fit": null,
            "object_position": null,
            "order": null,
            "overflow": null,
            "overflow_x": null,
            "overflow_y": null,
            "padding": null,
            "right": null,
            "top": null,
            "visibility": null,
            "width": null
          }
        },
        "6497aa397fe04ad0ba1a94e2a078ea7d": {
          "model_module": "@jupyter-widgets/controls",
          "model_name": "ProgressStyleModel",
          "model_module_version": "1.5.0",
          "state": {
            "_model_module": "@jupyter-widgets/controls",
            "_model_module_version": "1.5.0",
            "_model_name": "ProgressStyleModel",
            "_view_count": null,
            "_view_module": "@jupyter-widgets/base",
            "_view_module_version": "1.2.0",
            "_view_name": "StyleView",
            "bar_color": null,
            "description_width": ""
          }
        },
        "00d79c24ef5e4b1eab7aecbbdffe9bb2": {
          "model_module": "@jupyter-widgets/base",
          "model_name": "LayoutModel",
          "model_module_version": "1.2.0",
          "state": {
            "_model_module": "@jupyter-widgets/base",
            "_model_module_version": "1.2.0",
            "_model_name": "LayoutModel",
            "_view_count": null,
            "_view_module": "@jupyter-widgets/base",
            "_view_module_version": "1.2.0",
            "_view_name": "LayoutView",
            "align_content": null,
            "align_items": null,
            "align_self": null,
            "border": null,
            "bottom": null,
            "display": null,
            "flex": null,
            "flex_flow": null,
            "grid_area": null,
            "grid_auto_columns": null,
            "grid_auto_flow": null,
            "grid_auto_rows": null,
            "grid_column": null,
            "grid_gap": null,
            "grid_row": null,
            "grid_template_areas": null,
            "grid_template_columns": null,
            "grid_template_rows": null,
            "height": null,
            "justify_content": null,
            "justify_items": null,
            "left": null,
            "margin": null,
            "max_height": null,
            "max_width": null,
            "min_height": null,
            "min_width": null,
            "object_fit": null,
            "object_position": null,
            "order": null,
            "overflow": null,
            "overflow_x": null,
            "overflow_y": null,
            "padding": null,
            "right": null,
            "top": null,
            "visibility": null,
            "width": null
          }
        },
        "022b319a1d444c88abe797cf1a0b9003": {
          "model_module": "@jupyter-widgets/controls",
          "model_name": "DescriptionStyleModel",
          "model_module_version": "1.5.0",
          "state": {
            "_model_module": "@jupyter-widgets/controls",
            "_model_module_version": "1.5.0",
            "_model_name": "DescriptionStyleModel",
            "_view_count": null,
            "_view_module": "@jupyter-widgets/base",
            "_view_module_version": "1.2.0",
            "_view_name": "StyleView",
            "description_width": ""
          }
        }
      }
    }
  },
  "cells": [
    {
      "cell_type": "code",
      "execution_count": null,
      "metadata": {
        "colab": {
          "base_uri": "https://localhost:8080/"
        },
        "id": "QeegSQoHMLBL",
        "outputId": "ddcf7b35-f0fa-4ca9-c8d0-f00db7b7931a"
      },
      "outputs": [
        {
          "output_type": "stream",
          "name": "stdout",
          "text": [
            "Looking in indexes: https://pypi.org/simple, https://us-python.pkg.dev/colab-wheels/public/simple/\n",
            "Collecting pytorch_model_summary\n",
            "  Downloading pytorch_model_summary-0.1.2-py3-none-any.whl (9.3 kB)\n",
            "Requirement already satisfied: tqdm in /usr/local/lib/python3.8/dist-packages (from pytorch_model_summary) (4.64.1)\n",
            "Requirement already satisfied: numpy in /usr/local/lib/python3.8/dist-packages (from pytorch_model_summary) (1.21.6)\n",
            "Requirement already satisfied: torch in /usr/local/lib/python3.8/dist-packages (from pytorch_model_summary) (1.13.1+cu116)\n",
            "Requirement already satisfied: typing-extensions in /usr/local/lib/python3.8/dist-packages (from torch->pytorch_model_summary) (4.4.0)\n",
            "Installing collected packages: pytorch_model_summary\n",
            "Successfully installed pytorch_model_summary-0.1.2\n"
          ]
        }
      ],
      "source": [
        "!pip install pytorch_model_summary"
      ]
    },
    {
      "cell_type": "code",
      "source": [
        "#Import necessary libraries\n",
        "import torch\n",
        "import torchvision\n",
        "import torchvision.transforms as transforms\n",
        "import torch.nn.utils.prune as prune\n",
        "import torch.nn as nn\n",
        "import torch.optim as optim\n",
        "import torch.nn.functional as F\n",
        "import torch.backends.cudnn as cudnn\n",
        "import torch.nn.init as init\n",
        "from torch.optim.lr_scheduler import StepLR, ReduceLROnPlateau\n",
        "from torch.optim.lr_scheduler import StepLR, CosineAnnealingLR\n",
        "import numpy as np\n",
        "from torchvision import datasets, models, transforms\n",
        "from pytorch_model_summary import summary\n",
        "import time\n",
        "import copy, os\n",
        "import matplotlib.pyplot as plt\n",
        "\n",
        "%matplotlib inline"
      ],
      "metadata": {
        "id": "z-KsOKYtMrXA"
      },
      "execution_count": null,
      "outputs": []
    },
    {
      "cell_type": "markdown",
      "source": [
        "**Check for Device Availability**"
      ],
      "metadata": {
        "id": "_OSn9SHpM168"
      }
    },
    {
      "cell_type": "code",
      "source": [
        "# Check device availability\n",
        "device = torch.device(\"cuda\" if torch.cuda.is_available() else \"cpu\")\n",
        "print(f\"Available device: {device}\")"
      ],
      "metadata": {
        "colab": {
          "base_uri": "https://localhost:8080/"
        },
        "id": "KXYSz5yuM3uU",
        "outputId": "96a96767-ccba-4d5d-9097-93b3a4acb73c"
      },
      "execution_count": null,
      "outputs": [
        {
          "output_type": "stream",
          "name": "stdout",
          "text": [
            "Available device: cuda\n"
          ]
        }
      ]
    },
    {
      "cell_type": "markdown",
      "source": [
        "**Prepare Dataset**"
      ],
      "metadata": {
        "id": "8Xsk-aAfNoG7"
      }
    },
    {
      "cell_type": "code",
      "source": [
        "transform_train = transforms.Compose([\n",
        "    transforms.RandomCrop(32, padding=4),\n",
        "    transforms.RandomHorizontalFlip(),\n",
        "    transforms.ToTensor(),\n",
        "    transforms.Normalize((0.4914, 0.4822, 0.4465), (0.2023, 0.1994, 0.2010)),\n",
        "])"
      ],
      "metadata": {
        "id": "M4HsDZnLNrYx"
      },
      "execution_count": null,
      "outputs": []
    },
    {
      "cell_type": "code",
      "source": [
        "transform_test = transforms.Compose([\n",
        "    transforms.ToTensor(),\n",
        "    transforms.Normalize((0.4914, 0.4822, 0.4465), (0.2023, 0.1994, 0.2010)),\n",
        "])"
      ],
      "metadata": {
        "id": "uRUudP_7NxQF"
      },
      "execution_count": null,
      "outputs": []
    },
    {
      "cell_type": "code",
      "source": [
        "trainset = torchvision.datasets.CIFAR10(\n",
        "    root='./data', train=True, download=True, transform=transform_train)\n",
        "trainloader = torch.utils.data.DataLoader(\n",
        "    trainset, batch_size=64, shuffle=True)\n",
        "\n",
        "testset = torchvision.datasets.CIFAR10(\n",
        "    root='./data', train=False, download=True, transform=transform_test)\n",
        "testloader = torch.utils.data.DataLoader(\n",
        "    testset, batch_size=64, shuffle=False)\n",
        "\n",
        "classes = ('plane', 'car', 'bird', 'cat', 'deer',\n",
        "           'dog', 'frog', 'horse', 'ship', 'truck')"
      ],
      "metadata": {
        "colab": {
          "base_uri": "https://localhost:8080/",
          "height": 149,
          "referenced_widgets": [
            "a5b2981401cc4b288797e8cdb7723f80",
            "cf57d1c5684848dd9640a5e92c60a821",
            "c9bfb501d7f74a03a512d8130d34006f",
            "c9a6fd5542c64c0e93eb28b1d89e003a",
            "5bc71a3428fa42f1a16e325e1e970120",
            "7175cbac841644f39e025cecb6e0f236",
            "9780f22be7314ebf8ee4216a2d64735a",
            "fe50177fdf364568b583ad8fc6a7c79e",
            "6497aa397fe04ad0ba1a94e2a078ea7d",
            "00d79c24ef5e4b1eab7aecbbdffe9bb2",
            "022b319a1d444c88abe797cf1a0b9003"
          ]
        },
        "id": "Dq94YrctNzWW",
        "outputId": "b5eb07cb-8c9e-4120-dd77-6cd8cf660402"
      },
      "execution_count": null,
      "outputs": [
        {
          "output_type": "stream",
          "name": "stdout",
          "text": [
            "Downloading https://www.cs.toronto.edu/~kriz/cifar-10-python.tar.gz to ./data/cifar-10-python.tar.gz\n"
          ]
        },
        {
          "output_type": "display_data",
          "data": {
            "text/plain": [
              "  0%|          | 0/170498071 [00:00<?, ?it/s]"
            ],
            "application/vnd.jupyter.widget-view+json": {
              "version_major": 2,
              "version_minor": 0,
              "model_id": "a5b2981401cc4b288797e8cdb7723f80"
            }
          },
          "metadata": {}
        },
        {
          "output_type": "stream",
          "name": "stdout",
          "text": [
            "Extracting ./data/cifar-10-python.tar.gz to ./data\n",
            "Files already downloaded and verified\n"
          ]
        }
      ]
    },
    {
      "cell_type": "markdown",
      "source": [
        "**Model Definition**"
      ],
      "metadata": {
        "id": "i7wokBn0N3tS"
      }
    },
    {
      "cell_type": "code",
      "source": [
        "class BasicBlock(nn.Module):\n",
        "    expansion = 1\n",
        "\n",
        "    def __init__(self, in_planes, planes, stride=1):\n",
        "        super(BasicBlock, self).__init__()\n",
        "\n",
        "        DROPOUT = 0.1\n",
        "        self.conv1 = nn.Conv2d(\n",
        "            in_planes, planes, kernel_size=3, stride=stride, padding=1, bias=False)\n",
        "        self.bn1 = nn.BatchNorm2d(planes)\n",
        "        self.dropout = nn.Dropout(DROPOUT)\n",
        "        self.conv2 = nn.Conv2d(planes, planes, kernel_size=3,\n",
        "                               stride=1, padding=1, bias=False)\n",
        "        self.bn2 = nn.BatchNorm2d(planes)\n",
        "        self.dropout = nn.Dropout(DROPOUT)\n",
        "\n",
        "        self.shortcut = nn.Sequential()\n",
        "        if stride != 1 or in_planes != self.expansion*planes:\n",
        "            self.shortcut = nn.Sequential(\n",
        "                nn.Conv2d(in_planes, self.expansion*planes,\n",
        "                          kernel_size=1, stride=stride, bias=False),\n",
        "                nn.BatchNorm2d(self.expansion*planes),\n",
        "                nn.Dropout(DROPOUT)\n",
        "            )\n",
        "\n",
        "    def forward(self, x):\n",
        "        out = F.relu(self.dropout(self.bn1(self.conv1(x))))\n",
        "        out = self.dropout(self.bn2(self.conv2(out)))\n",
        "        out += self.shortcut(x)\n",
        "        out = F.relu(out)\n",
        "        return out\n",
        "\n",
        "class ResNet(nn.Module):\n",
        "    def __init__(self, block, num_blocks, num_classes=10):\n",
        "        super(ResNet, self).__init__()\n",
        "        self.in_planes = 64\n",
        "\n",
        "        self.conv1 = nn.Conv2d(3, 64, kernel_size=3,\n",
        "                               stride=1, padding=1, bias=False)\n",
        "        self.bn1 = nn.BatchNorm2d(64)\n",
        "        self.layer1 = self._make_layer(block, 64, num_blocks[0], stride=1)\n",
        "        self.layer2 = self._make_layer(block, 128, num_blocks[1], stride=2)\n",
        "        self.layer3 = self._make_layer(block, 256, num_blocks[2], stride=2)\n",
        "        self.layer4 = self._make_layer(block, 512, num_blocks[3], stride=2)\n",
        "        self.linear = nn.Linear(512*block.expansion, num_classes)\n",
        "\n",
        "    def _make_layer(self, block, planes, num_blocks, stride):\n",
        "        strides = [stride] + [1]*(num_blocks-1)\n",
        "        layers = []\n",
        "        for stride in strides:\n",
        "            layers.append(block(self.in_planes, planes, stride))\n",
        "            self.in_planes = planes * block.expansion\n",
        "        return nn.Sequential(*layers)\n",
        "\n",
        "    def forward(self, x):\n",
        "        out = F.relu(self.bn1(self.conv1(x)))\n",
        "        out = self.layer1(out)\n",
        "        out = self.layer2(out)\n",
        "        out = self.layer3(out)\n",
        "        out = self.layer4(out)\n",
        "        out = F.avg_pool2d(out, 4)\n",
        "        out = out.view(out.size(0), -1)\n",
        "        out = self.linear(out)\n",
        "        return F.log_softmax(out, dim=-1)\n",
        "\n",
        "\n",
        "def ResNet18():\n",
        "    return ResNet(BasicBlock, [2, 2, 2, 2])"
      ],
      "metadata": {
        "id": "SUqh3jYLN10l"
      },
      "execution_count": null,
      "outputs": []
    },
    {
      "cell_type": "markdown",
      "source": [
        "**Load Pretrained Model**"
      ],
      "metadata": {
        "id": "OWwtXAi7OCFG"
      }
    },
    {
      "cell_type": "code",
      "source": [
        "model = ResNet18()\n",
        "model.load_state_dict(torch.load(\"resnet_18.pth\"))\n",
        "model.to(torch.device(device))"
      ],
      "metadata": {
        "colab": {
          "base_uri": "https://localhost:8080/"
        },
        "id": "IXqRy1jmOIFu",
        "outputId": "4585ee17-8363-4af1-fe83-c820da0d26b3"
      },
      "execution_count": null,
      "outputs": [
        {
          "output_type": "execute_result",
          "data": {
            "text/plain": [
              "ResNet(\n",
              "  (conv1): Conv2d(3, 64, kernel_size=(3, 3), stride=(1, 1), padding=(1, 1), bias=False)\n",
              "  (bn1): BatchNorm2d(64, eps=1e-05, momentum=0.1, affine=True, track_running_stats=True)\n",
              "  (layer1): Sequential(\n",
              "    (0): BasicBlock(\n",
              "      (conv1): Conv2d(64, 64, kernel_size=(3, 3), stride=(1, 1), padding=(1, 1), bias=False)\n",
              "      (bn1): BatchNorm2d(64, eps=1e-05, momentum=0.1, affine=True, track_running_stats=True)\n",
              "      (dropout): Dropout(p=0.1, inplace=False)\n",
              "      (conv2): Conv2d(64, 64, kernel_size=(3, 3), stride=(1, 1), padding=(1, 1), bias=False)\n",
              "      (bn2): BatchNorm2d(64, eps=1e-05, momentum=0.1, affine=True, track_running_stats=True)\n",
              "      (shortcut): Sequential()\n",
              "    )\n",
              "    (1): BasicBlock(\n",
              "      (conv1): Conv2d(64, 64, kernel_size=(3, 3), stride=(1, 1), padding=(1, 1), bias=False)\n",
              "      (bn1): BatchNorm2d(64, eps=1e-05, momentum=0.1, affine=True, track_running_stats=True)\n",
              "      (dropout): Dropout(p=0.1, inplace=False)\n",
              "      (conv2): Conv2d(64, 64, kernel_size=(3, 3), stride=(1, 1), padding=(1, 1), bias=False)\n",
              "      (bn2): BatchNorm2d(64, eps=1e-05, momentum=0.1, affine=True, track_running_stats=True)\n",
              "      (shortcut): Sequential()\n",
              "    )\n",
              "  )\n",
              "  (layer2): Sequential(\n",
              "    (0): BasicBlock(\n",
              "      (conv1): Conv2d(64, 128, kernel_size=(3, 3), stride=(2, 2), padding=(1, 1), bias=False)\n",
              "      (bn1): BatchNorm2d(128, eps=1e-05, momentum=0.1, affine=True, track_running_stats=True)\n",
              "      (dropout): Dropout(p=0.1, inplace=False)\n",
              "      (conv2): Conv2d(128, 128, kernel_size=(3, 3), stride=(1, 1), padding=(1, 1), bias=False)\n",
              "      (bn2): BatchNorm2d(128, eps=1e-05, momentum=0.1, affine=True, track_running_stats=True)\n",
              "      (shortcut): Sequential(\n",
              "        (0): Conv2d(64, 128, kernel_size=(1, 1), stride=(2, 2), bias=False)\n",
              "        (1): BatchNorm2d(128, eps=1e-05, momentum=0.1, affine=True, track_running_stats=True)\n",
              "        (2): Dropout(p=0.1, inplace=False)\n",
              "      )\n",
              "    )\n",
              "    (1): BasicBlock(\n",
              "      (conv1): Conv2d(128, 128, kernel_size=(3, 3), stride=(1, 1), padding=(1, 1), bias=False)\n",
              "      (bn1): BatchNorm2d(128, eps=1e-05, momentum=0.1, affine=True, track_running_stats=True)\n",
              "      (dropout): Dropout(p=0.1, inplace=False)\n",
              "      (conv2): Conv2d(128, 128, kernel_size=(3, 3), stride=(1, 1), padding=(1, 1), bias=False)\n",
              "      (bn2): BatchNorm2d(128, eps=1e-05, momentum=0.1, affine=True, track_running_stats=True)\n",
              "      (shortcut): Sequential()\n",
              "    )\n",
              "  )\n",
              "  (layer3): Sequential(\n",
              "    (0): BasicBlock(\n",
              "      (conv1): Conv2d(128, 256, kernel_size=(3, 3), stride=(2, 2), padding=(1, 1), bias=False)\n",
              "      (bn1): BatchNorm2d(256, eps=1e-05, momentum=0.1, affine=True, track_running_stats=True)\n",
              "      (dropout): Dropout(p=0.1, inplace=False)\n",
              "      (conv2): Conv2d(256, 256, kernel_size=(3, 3), stride=(1, 1), padding=(1, 1), bias=False)\n",
              "      (bn2): BatchNorm2d(256, eps=1e-05, momentum=0.1, affine=True, track_running_stats=True)\n",
              "      (shortcut): Sequential(\n",
              "        (0): Conv2d(128, 256, kernel_size=(1, 1), stride=(2, 2), bias=False)\n",
              "        (1): BatchNorm2d(256, eps=1e-05, momentum=0.1, affine=True, track_running_stats=True)\n",
              "        (2): Dropout(p=0.1, inplace=False)\n",
              "      )\n",
              "    )\n",
              "    (1): BasicBlock(\n",
              "      (conv1): Conv2d(256, 256, kernel_size=(3, 3), stride=(1, 1), padding=(1, 1), bias=False)\n",
              "      (bn1): BatchNorm2d(256, eps=1e-05, momentum=0.1, affine=True, track_running_stats=True)\n",
              "      (dropout): Dropout(p=0.1, inplace=False)\n",
              "      (conv2): Conv2d(256, 256, kernel_size=(3, 3), stride=(1, 1), padding=(1, 1), bias=False)\n",
              "      (bn2): BatchNorm2d(256, eps=1e-05, momentum=0.1, affine=True, track_running_stats=True)\n",
              "      (shortcut): Sequential()\n",
              "    )\n",
              "  )\n",
              "  (layer4): Sequential(\n",
              "    (0): BasicBlock(\n",
              "      (conv1): Conv2d(256, 512, kernel_size=(3, 3), stride=(2, 2), padding=(1, 1), bias=False)\n",
              "      (bn1): BatchNorm2d(512, eps=1e-05, momentum=0.1, affine=True, track_running_stats=True)\n",
              "      (dropout): Dropout(p=0.1, inplace=False)\n",
              "      (conv2): Conv2d(512, 512, kernel_size=(3, 3), stride=(1, 1), padding=(1, 1), bias=False)\n",
              "      (bn2): BatchNorm2d(512, eps=1e-05, momentum=0.1, affine=True, track_running_stats=True)\n",
              "      (shortcut): Sequential(\n",
              "        (0): Conv2d(256, 512, kernel_size=(1, 1), stride=(2, 2), bias=False)\n",
              "        (1): BatchNorm2d(512, eps=1e-05, momentum=0.1, affine=True, track_running_stats=True)\n",
              "        (2): Dropout(p=0.1, inplace=False)\n",
              "      )\n",
              "    )\n",
              "    (1): BasicBlock(\n",
              "      (conv1): Conv2d(512, 512, kernel_size=(3, 3), stride=(1, 1), padding=(1, 1), bias=False)\n",
              "      (bn1): BatchNorm2d(512, eps=1e-05, momentum=0.1, affine=True, track_running_stats=True)\n",
              "      (dropout): Dropout(p=0.1, inplace=False)\n",
              "      (conv2): Conv2d(512, 512, kernel_size=(3, 3), stride=(1, 1), padding=(1, 1), bias=False)\n",
              "      (bn2): BatchNorm2d(512, eps=1e-05, momentum=0.1, affine=True, track_running_stats=True)\n",
              "      (shortcut): Sequential()\n",
              "    )\n",
              "  )\n",
              "  (linear): Linear(in_features=512, out_features=10, bias=True)\n",
              ")"
            ]
          },
          "metadata": {},
          "execution_count": 16
        }
      ]
    },
    {
      "cell_type": "code",
      "source": [
        "for layer, param in model.named_parameters():\n",
        "    print(f\"layer.name: {layer} & param.shape = {param.shape}\")"
      ],
      "metadata": {
        "colab": {
          "base_uri": "https://localhost:8080/"
        },
        "id": "JGqMfgBjOiqj",
        "outputId": "51738ad5-fdc3-41c2-8208-c632f03c3ffb"
      },
      "execution_count": null,
      "outputs": [
        {
          "output_type": "stream",
          "name": "stdout",
          "text": [
            "layer.name: conv1.weight & param.shape = torch.Size([64, 3, 3, 3])\n",
            "layer.name: bn1.weight & param.shape = torch.Size([64])\n",
            "layer.name: bn1.bias & param.shape = torch.Size([64])\n",
            "layer.name: layer1.0.conv1.weight & param.shape = torch.Size([64, 64, 3, 3])\n",
            "layer.name: layer1.0.bn1.weight & param.shape = torch.Size([64])\n",
            "layer.name: layer1.0.bn1.bias & param.shape = torch.Size([64])\n",
            "layer.name: layer1.0.conv2.weight & param.shape = torch.Size([64, 64, 3, 3])\n",
            "layer.name: layer1.0.bn2.weight & param.shape = torch.Size([64])\n",
            "layer.name: layer1.0.bn2.bias & param.shape = torch.Size([64])\n",
            "layer.name: layer1.1.conv1.weight & param.shape = torch.Size([64, 64, 3, 3])\n",
            "layer.name: layer1.1.bn1.weight & param.shape = torch.Size([64])\n",
            "layer.name: layer1.1.bn1.bias & param.shape = torch.Size([64])\n",
            "layer.name: layer1.1.conv2.weight & param.shape = torch.Size([64, 64, 3, 3])\n",
            "layer.name: layer1.1.bn2.weight & param.shape = torch.Size([64])\n",
            "layer.name: layer1.1.bn2.bias & param.shape = torch.Size([64])\n",
            "layer.name: layer2.0.conv1.weight & param.shape = torch.Size([128, 64, 3, 3])\n",
            "layer.name: layer2.0.bn1.weight & param.shape = torch.Size([128])\n",
            "layer.name: layer2.0.bn1.bias & param.shape = torch.Size([128])\n",
            "layer.name: layer2.0.conv2.weight & param.shape = torch.Size([128, 128, 3, 3])\n",
            "layer.name: layer2.0.bn2.weight & param.shape = torch.Size([128])\n",
            "layer.name: layer2.0.bn2.bias & param.shape = torch.Size([128])\n",
            "layer.name: layer2.0.shortcut.0.weight & param.shape = torch.Size([128, 64, 1, 1])\n",
            "layer.name: layer2.0.shortcut.1.weight & param.shape = torch.Size([128])\n",
            "layer.name: layer2.0.shortcut.1.bias & param.shape = torch.Size([128])\n",
            "layer.name: layer2.1.conv1.weight & param.shape = torch.Size([128, 128, 3, 3])\n",
            "layer.name: layer2.1.bn1.weight & param.shape = torch.Size([128])\n",
            "layer.name: layer2.1.bn1.bias & param.shape = torch.Size([128])\n",
            "layer.name: layer2.1.conv2.weight & param.shape = torch.Size([128, 128, 3, 3])\n",
            "layer.name: layer2.1.bn2.weight & param.shape = torch.Size([128])\n",
            "layer.name: layer2.1.bn2.bias & param.shape = torch.Size([128])\n",
            "layer.name: layer3.0.conv1.weight & param.shape = torch.Size([256, 128, 3, 3])\n",
            "layer.name: layer3.0.bn1.weight & param.shape = torch.Size([256])\n",
            "layer.name: layer3.0.bn1.bias & param.shape = torch.Size([256])\n",
            "layer.name: layer3.0.conv2.weight & param.shape = torch.Size([256, 256, 3, 3])\n",
            "layer.name: layer3.0.bn2.weight & param.shape = torch.Size([256])\n",
            "layer.name: layer3.0.bn2.bias & param.shape = torch.Size([256])\n",
            "layer.name: layer3.0.shortcut.0.weight & param.shape = torch.Size([256, 128, 1, 1])\n",
            "layer.name: layer3.0.shortcut.1.weight & param.shape = torch.Size([256])\n",
            "layer.name: layer3.0.shortcut.1.bias & param.shape = torch.Size([256])\n",
            "layer.name: layer3.1.conv1.weight & param.shape = torch.Size([256, 256, 3, 3])\n",
            "layer.name: layer3.1.bn1.weight & param.shape = torch.Size([256])\n",
            "layer.name: layer3.1.bn1.bias & param.shape = torch.Size([256])\n",
            "layer.name: layer3.1.conv2.weight & param.shape = torch.Size([256, 256, 3, 3])\n",
            "layer.name: layer3.1.bn2.weight & param.shape = torch.Size([256])\n",
            "layer.name: layer3.1.bn2.bias & param.shape = torch.Size([256])\n",
            "layer.name: layer4.0.conv1.weight & param.shape = torch.Size([512, 256, 3, 3])\n",
            "layer.name: layer4.0.bn1.weight & param.shape = torch.Size([512])\n",
            "layer.name: layer4.0.bn1.bias & param.shape = torch.Size([512])\n",
            "layer.name: layer4.0.conv2.weight & param.shape = torch.Size([512, 512, 3, 3])\n",
            "layer.name: layer4.0.bn2.weight & param.shape = torch.Size([512])\n",
            "layer.name: layer4.0.bn2.bias & param.shape = torch.Size([512])\n",
            "layer.name: layer4.0.shortcut.0.weight & param.shape = torch.Size([512, 256, 1, 1])\n",
            "layer.name: layer4.0.shortcut.1.weight & param.shape = torch.Size([512])\n",
            "layer.name: layer4.0.shortcut.1.bias & param.shape = torch.Size([512])\n",
            "layer.name: layer4.1.conv1.weight & param.shape = torch.Size([512, 512, 3, 3])\n",
            "layer.name: layer4.1.bn1.weight & param.shape = torch.Size([512])\n",
            "layer.name: layer4.1.bn1.bias & param.shape = torch.Size([512])\n",
            "layer.name: layer4.1.conv2.weight & param.shape = torch.Size([512, 512, 3, 3])\n",
            "layer.name: layer4.1.bn2.weight & param.shape = torch.Size([512])\n",
            "layer.name: layer4.1.bn2.bias & param.shape = torch.Size([512])\n",
            "layer.name: linear.weight & param.shape = torch.Size([10, 512])\n",
            "layer.name: linear.bias & param.shape = torch.Size([10])\n"
          ]
        }
      ]
    },
    {
      "cell_type": "code",
      "source": [
        "def measure_module_sparsity(module, weight=True, bias=False, use_mask=False):\n",
        "\n",
        "    num_zeros = 0\n",
        "    num_elements = 0\n",
        "\n",
        "    if use_mask == True:\n",
        "        for buffer_name, buffer in module.named_buffers():\n",
        "            if \"weight_mask\" in buffer_name and weight == True:\n",
        "                num_zeros += torch.sum(buffer == 0).item()\n",
        "                num_elements += buffer.nelement()\n",
        "            if \"bias_mask\" in buffer_name and bias == True:\n",
        "                num_zeros += torch.sum(buffer == 0).item()\n",
        "                num_elements += buffer.nelement()\n",
        "    else:\n",
        "        for param_name, param in module.named_parameters():\n",
        "            if \"weight\" in param_name and weight == True:\n",
        "                num_zeros += torch.sum(param == 0).item()\n",
        "                num_elements += param.nelement()\n",
        "            if \"bias\" in param_name and bias == True:\n",
        "                num_zeros += torch.sum(param == 0).item()\n",
        "                num_elements += param.nelement()\n",
        "\n",
        "    sparsity = num_zeros / num_elements\n",
        "\n",
        "    return num_zeros, num_elements, sparsity"
      ],
      "metadata": {
        "id": "-92Rchn2IJL3"
      },
      "execution_count": null,
      "outputs": []
    },
    {
      "cell_type": "code",
      "source": [
        "def measure_global_sparsity_acc( model, testloader, device, weight = True,\n",
        "    bias = False, conv2d_use_mask = False, linear_use_mask = False):\n",
        "\n",
        "    num_zeros = 0\n",
        "    num_elements = 0\n",
        "\n",
        "    for module_name, module in model.named_modules():\n",
        "        if isinstance(module, torch.nn.Conv2d):\n",
        "            module_num_zeros, module_num_elements, _ = measure_module_sparsity(\n",
        "                module, weight=weight, bias=bias, use_mask=conv2d_use_mask)\n",
        "            num_zeros += module_num_zeros\n",
        "            num_elements += module_num_elements\n",
        "            \n",
        "    sparsity = num_zeros / num_elements\n",
        "\n",
        "    sparsity_percent = 100.0 * sparsity\n",
        "    print(\"Global Sparsity: {:.2f}%\".format(sparsity_percent))\n",
        "    \n",
        "    \"\"\"\n",
        "    Calculate the accuracy of the pruned model on the test set\n",
        "    \"\"\"\n",
        "    num_correct = 0\n",
        "    time_ = 0\n",
        "    #Label =  0\n",
        "    classes = ('plane', 'car', 'bird', 'cat', 'deer', 'dog', 'frog', 'horse', 'ship', 'truck')\n",
        "\n",
        "    for index, (inputs, targets) in enumerate(testloader):\n",
        "      inputs, targets = inputs.to(device), targets.to(device)\n",
        "      with torch.no_grad():\n",
        "        start = time.time()\n",
        "        outputs = model(inputs)\n",
        "        pred = outputs.argmax(dim=1, keepdim=True)\n",
        "        end = time.time()\n",
        "        num_correct += pred.eq(targets.view_as(pred)).sum().item()\n",
        "        time_ += end - start\n",
        "    accuracy = 100*num_correct/len(testloader.dataset)   # Accuracy = numbr of correct outputs / total test samples\n",
        "    print(\"Accuracy: {:.2f}%\".format(accuracy))\n",
        "    return [sparsity_percent, round(float(accuracy), 2), float(time_)/float(index)]"
      ],
      "metadata": {
        "id": "hxyG14mNTNu8"
      },
      "execution_count": null,
      "outputs": []
    },
    {
      "cell_type": "code",
      "source": [
        "# Iitializing list of k values\n",
        "k_list = [val/100 for val in [0, 25, 50, 60, 70, 80, 90, 95, 97, 99]]"
      ],
      "metadata": {
        "id": "A2NBQrLVWr7I"
      },
      "execution_count": null,
      "outputs": []
    },
    {
      "cell_type": "markdown",
      "source": [
        "\n",
        "1)  Perform Weight Pruning to prune away k% neurons/units for k in  [0, 25, 50, 60, 70, 80, 90, 95, 97, 99]\n",
        "\n",
        "2)  Choose all layers other than the output layer and rank the weights using the absolute values\n",
        "    by using the l1_unstructured function. \n",
        "\n",
        "3)  Calculate Sparsity in layers and the Accuracy of the Pruned model on the Test set."
      ],
      "metadata": {
        "id": "TTh2tyiaWxUA"
      }
    },
    {
      "cell_type": "code",
      "source": [
        "data = []\n",
        "for k in k_list:\n",
        "  model.eval()\n",
        "  for name, module in model.named_modules():\n",
        "    if isinstance(module, torch.nn.Conv2d):\n",
        "      prune.l1_unstructured(module, name = 'weight', amount=k)\n",
        "    elif isinstance(module, torch.nn.Conv1d):\n",
        "     prune.l1_unstructured(module, name = 'weight', amount=k)  \n",
        "    #Ignore linear layer it contain the weights to the final output \n",
        "  data.append(measure_global_sparsity_acc(model, testloader, device))"
      ],
      "metadata": {
        "colab": {
          "base_uri": "https://localhost:8080/"
        },
        "id": "RQ7_YZ98W1Hx",
        "outputId": "6579b91e-9664-4b0b-d8cc-5830d7e13a36"
      },
      "execution_count": null,
      "outputs": [
        {
          "output_type": "stream",
          "name": "stdout",
          "text": [
            "Global Sparsity: 0.00%\n",
            "Accuracy: 89.36%\n",
            "Global Sparsity: 0.00%\n",
            "Accuracy: 88.59%\n",
            "Global Sparsity: 0.00%\n",
            "Accuracy: 17.39%\n",
            "Global Sparsity: 0.00%\n",
            "Accuracy: 9.02%\n",
            "Global Sparsity: 0.00%\n",
            "Accuracy: 10.00%\n",
            "Global Sparsity: 0.00%\n",
            "Accuracy: 10.00%\n",
            "Global Sparsity: 0.00%\n",
            "Accuracy: 10.00%\n",
            "Global Sparsity: 0.00%\n",
            "Accuracy: 10.00%\n",
            "Global Sparsity: 0.00%\n",
            "Accuracy: 10.00%\n",
            "Global Sparsity: 0.00%\n",
            "Accuracy: 10.00%\n"
          ]
        }
      ]
    },
    {
      "cell_type": "code",
      "source": [
        "print(data)"
      ],
      "metadata": {
        "colab": {
          "base_uri": "https://localhost:8080/"
        },
        "id": "VowiyDBFNWAC",
        "outputId": "63281895-7470-45ab-94bf-57620dc4e0c5"
      },
      "execution_count": null,
      "outputs": [
        {
          "output_type": "stream",
          "name": "stdout",
          "text": [
            "[[0.0, 89.36, 0.004443052487495618], [0.0, 88.59, 0.0043421540504846815], [0.0, 17.39, 0.0043526184864533255], [0.0, 9.02, 0.004493277806502122], [0.0, 10.0, 0.004999043085636237], [0.0, 10.0, 0.004368517643366105], [0.0, 10.0, 0.006090054145226112], [0.0, 10.0, 0.00435026181049836], [0.0, 10.0, 0.004341325698754726], [0.0, 10.0, 0.004421176054538825]]\n"
          ]
        }
      ]
    },
    {
      "cell_type": "code",
      "source": [
        "data2 = [[0.0, 89.36, 0.004443052487495618], [25.0, 88.59, 0.0043421540504846815], [50.0, 17.39, 0.0043526184864533255], [60.0, 9.02, 0.004493277806502122], [70.0, 10.0, 0.004999043085636237], [80.0, 10.0, 0.004368517643366105], [90.0, 10.0, 0.006090054145226112], [95.0, 10.0, 0.00435026181049836], [97.0, 10.0, 0.004341325698754726], [99.0, 10.0, 0.004421176054538825]]"
      ],
      "metadata": {
        "id": "gG-ZMUBwNZrX"
      },
      "execution_count": null,
      "outputs": []
    },
    {
      "cell_type": "markdown",
      "source": [],
      "metadata": {
        "id": "CncEh3ycWu-4"
      }
    },
    {
      "cell_type": "code",
      "source": [
        "\n",
        "# Plot sparsity/accuracy table\n",
        "import pandas as pd\n",
        "df = pd.DataFrame(data2,columns=['% Sparsity', '% Accuracy',\"Execution Time\"])\n",
        "print(df) "
      ],
      "metadata": {
        "colab": {
          "base_uri": "https://localhost:8080/"
        },
        "id": "PUhjQqtPpVVr",
        "outputId": "c5c112b8-7fbc-4928-8ea3-1f6be0f99bb2"
      },
      "execution_count": null,
      "outputs": [
        {
          "output_type": "stream",
          "name": "stdout",
          "text": [
            "   % Sparsity  % Accuracy  Execution Time\n",
            "0         0.0       89.36        0.004443\n",
            "1        25.0       88.59        0.004342\n",
            "2        50.0       17.39        0.004353\n",
            "3        60.0        9.02        0.004493\n",
            "4        70.0       10.00        0.004999\n",
            "5        80.0       10.00        0.004369\n",
            "6        90.0       10.00        0.006090\n",
            "7        95.0       10.00        0.004350\n",
            "8        97.0       10.00        0.004341\n",
            "9        99.0       10.00        0.004421\n"
          ]
        }
      ]
    },
    {
      "cell_type": "code",
      "source": [
        "# Plot accuracy plot for weight pruning\n",
        "df.plot(kind='line', x = '% Sparsity', y='% Accuracy', color='green')\n",
        "plt.title('Accuracy plot for Weight Pruning')\n",
        "plt.show()"
      ],
      "metadata": {
        "colab": {
          "base_uri": "https://localhost:8080/",
          "height": 295
        },
        "id": "xnMy6DAopcJM",
        "outputId": "b7cc0d57-abab-4eaf-a3ee-75c3de05aaa4"
      },
      "execution_count": null,
      "outputs": [
        {
          "output_type": "display_data",
          "data": {
            "text/plain": [
              "<Figure size 432x288 with 1 Axes>"
            ],
            "image/png": "[encoded data removed]"
          },
          "metadata": {
            "needs_background": "light"
          }
        }
      ]
    },
    {
      "cell_type": "code",
      "source": [
        "df.plot(kind = 'line', x = '% Sparsity', y = \"Execution Time\", color = 'blue')\n",
        "plt.title(\"Execution Time plot for Weight Pruning\")\n",
        "plt.show()"
      ],
      "metadata": {
        "colab": {
          "base_uri": "https://localhost:8080/",
          "height": 295
        },
        "id": "Mz3wQfSopfXy",
        "outputId": "94938083-a2a6-4665-85ba-7d22a5f665e1"
      },
      "execution_count": null,
      "outputs": [
        {
          "output_type": "display_data",
          "data": {
            "text/plain": [
              "<Figure size 432x288 with 1 Axes>"
            ],
            "image/png": "[encoded data removed]"
          },
          "metadata": {
            "needs_background": "light"
          }
        }
      ]
    }
  ]
}