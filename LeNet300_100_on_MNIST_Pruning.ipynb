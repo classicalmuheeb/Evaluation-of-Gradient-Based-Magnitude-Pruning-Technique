{
  "nbformat": 4,
  "nbformat_minor": 0,
  "metadata": {
    "colab": {
      "provenance": []
    },
    "kernelspec": {
      "name": "python3",
      "display_name": "Python 3"
    },
    "language_info": {
      "name": "python"
    }
  },
  "cells": [
    {
      "cell_type": "markdown",
      "source": [
        "**Introduction:**\n",
        "\n",
        "This notebook contains the implementation of L1 pruning technique of LeNet300-100 model on MNIST dataset"
      ],
      "metadata": {
        "id": "MXOHhqXZYCor"
      }
    },
    {
      "cell_type": "code",
      "execution_count": null,
      "metadata": {
        "id": "FEF6f1r9XxE7"
      },
      "outputs": [],
      "source": [
        "import torch\n",
        "import torch.nn as nn\n",
        "import torchvision\n",
        "import torch.nn.functional as F\n",
        "import numpy as np\n",
        "import torchvision.transforms as transforms\n",
        "from torchvision.transforms import ToTensor, Lambda, Compose\n",
        "from torchvision import datasets\n",
        "import matplotlib.pyplot as plt\n",
        "import os"
      ]
    },
    {
      "cell_type": "code",
      "source": [
        "!pip install pytorch_model_summary\n",
        "from pytorch_model_summary import summary"
      ],
      "metadata": {
        "colab": {
          "base_uri": "https://localhost:8080/"
        },
        "id": "F5CoNN1NY_-w",
        "outputId": "e1529164-6fec-4286-8c81-a86d5a86aa91"
      },
      "execution_count": null,
      "outputs": [
        {
          "output_type": "stream",
          "name": "stdout",
          "text": [
            "Looking in indexes: https://pypi.org/simple, https://us-python.pkg.dev/colab-wheels/public/simple/\n",
            "Collecting pytorch_model_summary\n",
            "  Downloading pytorch_model_summary-0.1.2-py3-none-any.whl (9.3 kB)\n",
            "Requirement already satisfied: numpy in /usr/local/lib/python3.8/dist-packages (from pytorch_model_summary) (1.21.6)\n",
            "Requirement already satisfied: torch in /usr/local/lib/python3.8/dist-packages (from pytorch_model_summary) (1.13.1+cu116)\n",
            "Requirement already satisfied: tqdm in /usr/local/lib/python3.8/dist-packages (from pytorch_model_summary) (4.64.1)\n",
            "Requirement already satisfied: typing-extensions in /usr/local/lib/python3.8/dist-packages (from torch->pytorch_model_summary) (4.4.0)\n",
            "Installing collected packages: pytorch_model_summary\n",
            "Successfully installed pytorch_model_summary-0.1.2\n"
          ]
        }
      ]
    },
    {
      "cell_type": "markdown",
      "source": [
        "**Check for Device Availability**"
      ],
      "metadata": {
        "id": "XgLsRLCPYelN"
      }
    },
    {
      "cell_type": "code",
      "source": [
        "# Check device availability\n",
        "device = torch.device(\"cuda\" if torch.cuda.is_available() else \"cpu\")\n",
        "print(f\"Available device: {device}\")"
      ],
      "metadata": {
        "colab": {
          "base_uri": "https://localhost:8080/"
        },
        "id": "0CeTc6wkYd8M",
        "outputId": "7f532392-484b-4f21-bdde-ba1395e44717"
      },
      "execution_count": null,
      "outputs": [
        {
          "output_type": "stream",
          "name": "stdout",
          "text": [
            "Available device: cpu\n"
          ]
        }
      ]
    },
    {
      "cell_type": "code",
      "source": [
        "# Set Hyperparameters\n",
        "input_size = 784    # 28 x 28, flattened to be 1-D tensor\n",
        "hidden_size = 100\n",
        "num_classes = 10\n",
        "num_epochs = 20\n",
        "batch_size = 32\n",
        "learning_rate = 0.0012"
      ],
      "metadata": {
        "id": "FAMDKfdtYdTb"
      },
      "execution_count": null,
      "outputs": []
    },
    {
      "cell_type": "markdown",
      "source": [
        "**Download and Prepare Dataset**"
      ],
      "metadata": {
        "id": "XtXsQMuFZQGn"
      }
    },
    {
      "cell_type": "code",
      "source": [
        "# Create train and test_data loaders\n",
        "train_data = torchvision.datasets.MNIST(\"./\",train=True,download=True ,transform=ToTensor())\n",
        "train_data_loaded = torch.utils.data.DataLoader(train_data,\n",
        "                                          batch_size=32,\n",
        "                                          shuffle=True)\n",
        "\n",
        "# Creating Data Loader object for creating the Test set by using the field train=False \n",
        "test_data = torchvision.datasets.MNIST(\"./\",train=False,download=True,transform=ToTensor())\n",
        "test_data_loaded = torch.utils.data.DataLoader(test_data, batch_size=100, shuffle=True)"
      ],
      "metadata": {
        "id": "S8ld9F1JZPbQ"
      },
      "execution_count": null,
      "outputs": []
    },
    {
      "cell_type": "markdown",
      "source": [
        "**Specify Model**"
      ],
      "metadata": {
        "id": "WBCeM_WNZrlc"
      }
    },
    {
      "cell_type": "code",
      "source": [
        "class LeNet300(nn.Module):\n",
        "    def __init__(self):\n",
        "        super(LeNet300, self).__init__()\n",
        "        # Define layers-\n",
        "        self.fc1 = nn.Linear(in_features = input_size, out_features = 300)\n",
        "        self.fc2 = nn.Linear(in_features = 300, out_features = 100)\n",
        "        self.out = nn.Linear(in_features = 100, out_features = 10) \n",
        "    \n",
        "    def forward(self, x):\n",
        "        x = torch.flatten(x,1)\n",
        "        x = F.relu(self.fc1(x))\n",
        "        x = F.relu(self.fc2(x))\n",
        "        return self.out(x)"
      ],
      "metadata": {
        "id": "aw_UdtPH6xJT"
      },
      "execution_count": null,
      "outputs": []
    },
    {
      "cell_type": "code",
      "source": [
        "class LeNet300(nn.Module):\n",
        "    def __init__(self):\n",
        "        super(LeNet300, self).__init__()\n",
        "        # Define layers-\n",
        "        self.fc1 = nn.Linear(in_features = input_size, out_features = 300)\n",
        "        self.fc2 = nn.Linear(in_features = 300, out_features = 100)\n",
        "        self.output = nn.Linear(in_features = 100, out_features = 10)\n",
        "        \n",
        "        self.weights_initialization()\n",
        "    \n",
        "    \n",
        "    def forward(self, x):\n",
        "        out = F.relu(self.fc1(x))\n",
        "        out = F.relu(self.fc2(out))\n",
        "        return self.output(out)\n",
        "    \n",
        "    \n",
        "    def weights_initialization(self):\n",
        "        '''\n",
        "        When we define all the modules such as the layers in '__init__()'\n",
        "        method above, these are all stored in 'self.modules()'.\n",
        "        We go through each module one by one. This is the entire network,\n",
        "        basically.\n",
        "        '''\n",
        "        for m in self.modules():\n",
        "            if isinstance(m, nn.Linear):\n",
        "                nn.init.xavier_normal_(m.weight)\n",
        "                nn.init.constant_(m.bias, 0)"
      ],
      "metadata": {
        "id": "D1pIws8NYCYB"
      },
      "execution_count": null,
      "outputs": []
    },
    {
      "cell_type": "code",
      "source": [
        "model = LeNet300()\n",
        "model.to(torch.device(device))"
      ],
      "metadata": {
        "colab": {
          "base_uri": "https://localhost:8080/"
        },
        "id": "E1xLsvHoZrNO",
        "outputId": "103556b5-370a-4a44-9df3-667fbc5443e3"
      },
      "execution_count": null,
      "outputs": [
        {
          "output_type": "execute_result",
          "data": {
            "text/plain": [
              "LeNet300(\n",
              "  (fc1): Linear(in_features=784, out_features=300, bias=True)\n",
              "  (fc2): Linear(in_features=300, out_features=100, bias=True)\n",
              "  (out): Linear(in_features=100, out_features=10, bias=True)\n",
              ")"
            ]
          },
          "metadata": {},
          "execution_count": 92
        }
      ]
    },
    {
      "cell_type": "code",
      "source": [
        "# Specify loss functions\n",
        "criterion = torch.nn.CrossEntropyLoss()\n",
        "optimizer = torch.optim.Adam(model.parameters(), lr=0.0012)\n",
        "epochs = 20"
      ],
      "metadata": {
        "id": "aTh1Pk_SdNeJ"
      },
      "execution_count": null,
      "outputs": []
    },
    {
      "cell_type": "code",
      "source": [
        "# Train model\n",
        "for epoch in range(epochs):                        # iterate over number of epochs\n",
        "    running_loss = 0.0\n",
        "    for i,images in enumerate(train_data_loaded):  # iterate over the batches of training data\n",
        "        batch_images,batch_labels = images\n",
        "        batch_images = batch_images.to(device)     \n",
        "        batch_labels = batch_labels.to(device)\n",
        "        optimizer.zero_grad()  \n",
        "        outputs = model(batch_images)              # computing forward pass \n",
        "        loss = criterion(outputs, batch_labels)    # Calculating loss\n",
        "        loss.backward()                            # Calculating the gradients\n",
        "        optimizer.step()\n",
        "        running_loss += loss.item()\n",
        "\n",
        "        if i % 200 == 199: \n",
        "          print(f'[{epoch + 1}, {i + 1:5d}] loss : {running_loss / 2000:.3f}')\n",
        "          running_loss = 0.0"
      ],
      "metadata": {
        "colab": {
          "base_uri": "https://localhost:8080/"
        },
        "id": "VprGFdjpBs7T",
        "outputId": "9ac51905-467e-4649-ef45-ae4389f81486"
      },
      "execution_count": null,
      "outputs": [
        {
          "output_type": "stream",
          "name": "stdout",
          "text": [
            "[1,   200] loss : 0.064\n",
            "[1,   400] loss : 0.030\n",
            "[1,   600] loss : 0.024\n",
            "[1,   800] loss : 0.021\n",
            "[1,  1000] loss : 0.015\n",
            "[1,  1200] loss : 0.017\n",
            "[1,  1400] loss : 0.014\n",
            "[1,  1600] loss : 0.013\n",
            "[1,  1800] loss : 0.013\n",
            "[2,   200] loss : 0.009\n",
            "[2,   400] loss : 0.008\n",
            "[2,   600] loss : 0.010\n",
            "[2,   800] loss : 0.010\n",
            "[2,  1000] loss : 0.010\n",
            "[2,  1200] loss : 0.009\n",
            "[2,  1400] loss : 0.010\n",
            "[2,  1600] loss : 0.008\n",
            "[2,  1800] loss : 0.009\n",
            "[3,   200] loss : 0.006\n",
            "[3,   400] loss : 0.005\n",
            "[3,   600] loss : 0.006\n",
            "[3,   800] loss : 0.006\n",
            "[3,  1000] loss : 0.007\n",
            "[3,  1200] loss : 0.007\n",
            "[3,  1400] loss : 0.006\n",
            "[3,  1600] loss : 0.007\n",
            "[3,  1800] loss : 0.006\n",
            "[4,   200] loss : 0.003\n",
            "[4,   400] loss : 0.004\n",
            "[4,   600] loss : 0.005\n",
            "[4,   800] loss : 0.004\n",
            "[4,  1000] loss : 0.004\n",
            "[4,  1200] loss : 0.005\n",
            "[4,  1400] loss : 0.005\n",
            "[4,  1600] loss : 0.005\n",
            "[4,  1800] loss : 0.006\n",
            "[5,   200] loss : 0.002\n",
            "[5,   400] loss : 0.003\n",
            "[5,   600] loss : 0.003\n",
            "[5,   800] loss : 0.004\n",
            "[5,  1000] loss : 0.004\n",
            "[5,  1200] loss : 0.004\n",
            "[5,  1400] loss : 0.004\n",
            "[5,  1600] loss : 0.004\n",
            "[5,  1800] loss : 0.004\n",
            "[6,   200] loss : 0.002\n",
            "[6,   400] loss : 0.003\n",
            "[6,   600] loss : 0.003\n",
            "[6,   800] loss : 0.003\n",
            "[6,  1000] loss : 0.003\n",
            "[6,  1200] loss : 0.004\n",
            "[6,  1400] loss : 0.003\n",
            "[6,  1600] loss : 0.002\n",
            "[6,  1800] loss : 0.003\n",
            "[7,   200] loss : 0.002\n",
            "[7,   400] loss : 0.002\n",
            "[7,   600] loss : 0.002\n",
            "[7,   800] loss : 0.002\n",
            "[7,  1000] loss : 0.003\n",
            "[7,  1200] loss : 0.002\n",
            "[7,  1400] loss : 0.003\n",
            "[7,  1600] loss : 0.003\n",
            "[7,  1800] loss : 0.003\n",
            "[8,   200] loss : 0.001\n",
            "[8,   400] loss : 0.002\n",
            "[8,   600] loss : 0.002\n",
            "[8,   800] loss : 0.002\n",
            "[8,  1000] loss : 0.003\n",
            "[8,  1200] loss : 0.002\n",
            "[8,  1400] loss : 0.002\n",
            "[8,  1600] loss : 0.003\n",
            "[8,  1800] loss : 0.004\n",
            "[9,   200] loss : 0.001\n",
            "[9,   400] loss : 0.001\n",
            "[9,   600] loss : 0.002\n",
            "[9,   800] loss : 0.002\n",
            "[9,  1000] loss : 0.002\n",
            "[9,  1200] loss : 0.002\n",
            "[9,  1400] loss : 0.002\n",
            "[9,  1600] loss : 0.002\n",
            "[9,  1800] loss : 0.003\n",
            "[10,   200] loss : 0.001\n",
            "[10,   400] loss : 0.001\n",
            "[10,   600] loss : 0.001\n",
            "[10,   800] loss : 0.001\n",
            "[10,  1000] loss : 0.002\n",
            "[10,  1200] loss : 0.002\n",
            "[10,  1400] loss : 0.003\n",
            "[10,  1600] loss : 0.003\n",
            "[10,  1800] loss : 0.002\n",
            "[11,   200] loss : 0.001\n",
            "[11,   400] loss : 0.001\n",
            "[11,   600] loss : 0.001\n",
            "[11,   800] loss : 0.001\n",
            "[11,  1000] loss : 0.001\n",
            "[11,  1200] loss : 0.002\n",
            "[11,  1400] loss : 0.002\n",
            "[11,  1600] loss : 0.001\n",
            "[11,  1800] loss : 0.002\n",
            "[12,   200] loss : 0.001\n",
            "[12,   400] loss : 0.001\n",
            "[12,   600] loss : 0.001\n",
            "[12,   800] loss : 0.001\n",
            "[12,  1000] loss : 0.001\n",
            "[12,  1200] loss : 0.002\n",
            "[12,  1400] loss : 0.002\n",
            "[12,  1600] loss : 0.002\n",
            "[12,  1800] loss : 0.002\n",
            "[13,   200] loss : 0.001\n",
            "[13,   400] loss : 0.001\n",
            "[13,   600] loss : 0.001\n",
            "[13,   800] loss : 0.001\n",
            "[13,  1000] loss : 0.001\n",
            "[13,  1200] loss : 0.003\n",
            "[13,  1400] loss : 0.001\n",
            "[13,  1600] loss : 0.001\n",
            "[13,  1800] loss : 0.001\n",
            "[14,   200] loss : 0.002\n",
            "[14,   400] loss : 0.001\n",
            "[14,   600] loss : 0.001\n",
            "[14,   800] loss : 0.002\n",
            "[14,  1000] loss : 0.001\n",
            "[14,  1200] loss : 0.002\n",
            "[14,  1400] loss : 0.001\n",
            "[14,  1600] loss : 0.002\n",
            "[14,  1800] loss : 0.002\n",
            "[15,   200] loss : 0.001\n",
            "[15,   400] loss : 0.001\n",
            "[15,   600] loss : 0.001\n",
            "[15,   800] loss : 0.001\n",
            "[15,  1000] loss : 0.001\n",
            "[15,  1200] loss : 0.002\n",
            "[15,  1400] loss : 0.001\n",
            "[15,  1600] loss : 0.001\n",
            "[15,  1800] loss : 0.002\n",
            "[16,   200] loss : 0.001\n",
            "[16,   400] loss : 0.001\n",
            "[16,   600] loss : 0.001\n",
            "[16,   800] loss : 0.001\n",
            "[16,  1000] loss : 0.001\n",
            "[16,  1200] loss : 0.001\n",
            "[16,  1400] loss : 0.001\n",
            "[16,  1600] loss : 0.001\n",
            "[16,  1800] loss : 0.002\n",
            "[17,   200] loss : 0.002\n",
            "[17,   400] loss : 0.001\n",
            "[17,   600] loss : 0.001\n",
            "[17,   800] loss : 0.001\n",
            "[17,  1000] loss : 0.002\n",
            "[17,  1200] loss : 0.001\n",
            "[17,  1400] loss : 0.001\n",
            "[17,  1600] loss : 0.001\n",
            "[17,  1800] loss : 0.001\n",
            "[18,   200] loss : 0.000\n",
            "[18,   400] loss : 0.001\n",
            "[18,   600] loss : 0.001\n",
            "[18,   800] loss : 0.001\n",
            "[18,  1000] loss : 0.001\n",
            "[18,  1200] loss : 0.002\n",
            "[18,  1400] loss : 0.002\n",
            "[18,  1600] loss : 0.001\n",
            "[18,  1800] loss : 0.001\n",
            "[19,   200] loss : 0.001\n",
            "[19,   400] loss : 0.001\n",
            "[19,   600] loss : 0.001\n",
            "[19,   800] loss : 0.001\n",
            "[19,  1000] loss : 0.001\n",
            "[19,  1200] loss : 0.001\n",
            "[19,  1400] loss : 0.001\n",
            "[19,  1600] loss : 0.001\n",
            "[19,  1800] loss : 0.001\n",
            "[20,   200] loss : 0.001\n",
            "[20,   400] loss : 0.001\n",
            "[20,   600] loss : 0.001\n",
            "[20,   800] loss : 0.001\n",
            "[20,  1000] loss : 0.001\n",
            "[20,  1200] loss : 0.001\n",
            "[20,  1400] loss : 0.000\n",
            "[20,  1600] loss : 0.001\n",
            "[20,  1800] loss : 0.001\n"
          ]
        }
      ]
    },
    {
      "cell_type": "code",
      "source": [
        "# Train model\n",
        "for epoch in range(epochs):                        # iterate over number of epochs\n",
        "    running_loss = 0.0\n",
        "    for index,(images, labels) in enumerate(train_data_loaded):  # iterate over the batches of training data\n",
        "        images = images.reshape(-1, 28 * 28 * 1).to(device)\n",
        "        labels = labels.to(device)\n",
        "        optimizer.zero_grad()\n",
        "        outputs = model(images)\n",
        "        loss = criterion(outputs, labels)\n",
        "        loss.backward()\n",
        "        optimizer.step()\n",
        "        running_loss += loss.item()\n",
        "        \n",
        "        if index % 200 == 199: \n",
        "          print(f'[{epoch + 1}, {index + 1:5d}] loss : {running_loss / 2000:.3f}')\n",
        "          running_loss = 0.0"
      ],
      "metadata": {
        "colab": {
          "base_uri": "https://localhost:8080/"
        },
        "id": "9fDmpKUFeHRx",
        "outputId": "d9aa877c-fda4-49d7-f7b9-0fabd73de72d"
      },
      "execution_count": null,
      "outputs": [
        {
          "output_type": "stream",
          "name": "stdout",
          "text": [
            "[1,   200] loss : 0.063\n",
            "[1,   400] loss : 0.029\n",
            "[1,   600] loss : 0.023\n",
            "[1,   800] loss : 0.019\n",
            "[1,  1000] loss : 0.019\n",
            "[1,  1200] loss : 0.017\n",
            "[1,  1400] loss : 0.016\n",
            "[1,  1600] loss : 0.013\n",
            "[1,  1800] loss : 0.013\n",
            "[2,   200] loss : 0.011\n",
            "[2,   400] loss : 0.010\n",
            "[2,   600] loss : 0.009\n",
            "[2,   800] loss : 0.010\n",
            "[2,  1000] loss : 0.009\n",
            "[2,  1200] loss : 0.009\n",
            "[2,  1400] loss : 0.009\n",
            "[2,  1600] loss : 0.009\n",
            "[2,  1800] loss : 0.009\n",
            "[3,   200] loss : 0.005\n",
            "[3,   400] loss : 0.005\n",
            "[3,   600] loss : 0.005\n",
            "[3,   800] loss : 0.007\n",
            "[3,  1000] loss : 0.005\n",
            "[3,  1200] loss : 0.007\n",
            "[3,  1400] loss : 0.007\n",
            "[3,  1600] loss : 0.007\n",
            "[3,  1800] loss : 0.007\n",
            "[4,   200] loss : 0.004\n",
            "[4,   400] loss : 0.004\n",
            "[4,   600] loss : 0.004\n",
            "[4,   800] loss : 0.004\n",
            "[4,  1000] loss : 0.004\n",
            "[4,  1200] loss : 0.005\n",
            "[4,  1400] loss : 0.005\n",
            "[4,  1600] loss : 0.005\n",
            "[4,  1800] loss : 0.005\n",
            "[5,   200] loss : 0.003\n",
            "[5,   400] loss : 0.003\n",
            "[5,   600] loss : 0.003\n",
            "[5,   800] loss : 0.004\n",
            "[5,  1000] loss : 0.004\n",
            "[5,  1200] loss : 0.005\n",
            "[5,  1400] loss : 0.004\n",
            "[5,  1600] loss : 0.004\n",
            "[5,  1800] loss : 0.004\n",
            "[6,   200] loss : 0.002\n",
            "[6,   400] loss : 0.003\n",
            "[6,   600] loss : 0.003\n",
            "[6,   800] loss : 0.002\n",
            "[6,  1000] loss : 0.002\n",
            "[6,  1200] loss : 0.003\n",
            "[6,  1400] loss : 0.003\n",
            "[6,  1600] loss : 0.004\n",
            "[6,  1800] loss : 0.003\n",
            "[7,   200] loss : 0.002\n",
            "[7,   400] loss : 0.002\n",
            "[7,   600] loss : 0.002\n",
            "[7,   800] loss : 0.003\n",
            "[7,  1000] loss : 0.003\n",
            "[7,  1200] loss : 0.002\n",
            "[7,  1400] loss : 0.003\n",
            "[7,  1600] loss : 0.002\n",
            "[7,  1800] loss : 0.003\n",
            "[8,   200] loss : 0.002\n",
            "[8,   400] loss : 0.002\n",
            "[8,   600] loss : 0.002\n",
            "[8,   800] loss : 0.003\n",
            "[8,  1000] loss : 0.002\n",
            "[8,  1200] loss : 0.002\n",
            "[8,  1400] loss : 0.001\n",
            "[8,  1600] loss : 0.003\n",
            "[8,  1800] loss : 0.003\n",
            "[9,   200] loss : 0.002\n",
            "[9,   400] loss : 0.002\n",
            "[9,   600] loss : 0.002\n",
            "[9,   800] loss : 0.002\n",
            "[9,  1000] loss : 0.002\n",
            "[9,  1200] loss : 0.002\n",
            "[9,  1400] loss : 0.002\n",
            "[9,  1600] loss : 0.002\n",
            "[9,  1800] loss : 0.002\n",
            "[10,   200] loss : 0.002\n",
            "[10,   400] loss : 0.001\n",
            "[10,   600] loss : 0.002\n",
            "[10,   800] loss : 0.001\n",
            "[10,  1000] loss : 0.002\n",
            "[10,  1200] loss : 0.002\n",
            "[10,  1400] loss : 0.002\n",
            "[10,  1600] loss : 0.002\n",
            "[10,  1800] loss : 0.002\n",
            "[11,   200] loss : 0.001\n",
            "[11,   400] loss : 0.001\n",
            "[11,   600] loss : 0.001\n",
            "[11,   800] loss : 0.002\n",
            "[11,  1000] loss : 0.001\n",
            "[11,  1200] loss : 0.001\n",
            "[11,  1400] loss : 0.002\n",
            "[11,  1600] loss : 0.002\n",
            "[11,  1800] loss : 0.002\n",
            "[12,   200] loss : 0.001\n",
            "[12,   400] loss : 0.001\n",
            "[12,   600] loss : 0.002\n",
            "[12,   800] loss : 0.001\n",
            "[12,  1000] loss : 0.001\n",
            "[12,  1200] loss : 0.002\n",
            "[12,  1400] loss : 0.001\n",
            "[12,  1600] loss : 0.002\n",
            "[12,  1800] loss : 0.003\n",
            "[13,   200] loss : 0.001\n",
            "[13,   400] loss : 0.002\n",
            "[13,   600] loss : 0.001\n",
            "[13,   800] loss : 0.002\n",
            "[13,  1000] loss : 0.001\n",
            "[13,  1200] loss : 0.002\n",
            "[13,  1400] loss : 0.001\n",
            "[13,  1600] loss : 0.001\n",
            "[13,  1800] loss : 0.001\n",
            "[14,   200] loss : 0.001\n",
            "[14,   400] loss : 0.001\n",
            "[14,   600] loss : 0.001\n",
            "[14,   800] loss : 0.002\n",
            "[14,  1000] loss : 0.002\n",
            "[14,  1200] loss : 0.002\n",
            "[14,  1400] loss : 0.002\n",
            "[14,  1600] loss : 0.003\n",
            "[14,  1800] loss : 0.001\n",
            "[15,   200] loss : 0.001\n",
            "[15,   400] loss : 0.001\n",
            "[15,   600] loss : 0.001\n",
            "[15,   800] loss : 0.001\n",
            "[15,  1000] loss : 0.001\n",
            "[15,  1200] loss : 0.002\n",
            "[15,  1400] loss : 0.001\n",
            "[15,  1600] loss : 0.001\n",
            "[15,  1800] loss : 0.001\n",
            "[16,   200] loss : 0.001\n",
            "[16,   400] loss : 0.001\n",
            "[16,   600] loss : 0.002\n",
            "[16,   800] loss : 0.001\n",
            "[16,  1000] loss : 0.002\n",
            "[16,  1200] loss : 0.001\n",
            "[16,  1400] loss : 0.001\n",
            "[16,  1600] loss : 0.002\n",
            "[16,  1800] loss : 0.002\n",
            "[17,   200] loss : 0.002\n",
            "[17,   400] loss : 0.001\n",
            "[17,   600] loss : 0.001\n",
            "[17,   800] loss : 0.001\n",
            "[17,  1000] loss : 0.001\n",
            "[17,  1200] loss : 0.001\n",
            "[17,  1400] loss : 0.001\n",
            "[17,  1600] loss : 0.001\n",
            "[17,  1800] loss : 0.001\n",
            "[18,   200] loss : 0.001\n",
            "[18,   400] loss : 0.001\n",
            "[18,   600] loss : 0.002\n",
            "[18,   800] loss : 0.002\n",
            "[18,  1000] loss : 0.001\n",
            "[18,  1200] loss : 0.001\n",
            "[18,  1400] loss : 0.001\n",
            "[18,  1600] loss : 0.001\n",
            "[18,  1800] loss : 0.001\n",
            "[19,   200] loss : 0.000\n",
            "[19,   400] loss : 0.000\n",
            "[19,   600] loss : 0.000\n",
            "[19,   800] loss : 0.001\n",
            "[19,  1000] loss : 0.001\n",
            "[19,  1200] loss : 0.002\n",
            "[19,  1400] loss : 0.001\n",
            "[19,  1600] loss : 0.001\n",
            "[19,  1800] loss : 0.001\n",
            "[20,   200] loss : 0.001\n",
            "[20,   400] loss : 0.000\n",
            "[20,   600] loss : 0.002\n",
            "[20,   800] loss : 0.002\n",
            "[20,  1000] loss : 0.001\n",
            "[20,  1200] loss : 0.001\n",
            "[20,  1400] loss : 0.001\n",
            "[20,  1600] loss : 0.002\n",
            "[20,  1800] loss : 0.002\n"
          ]
        }
      ]
    },
    {
      "cell_type": "code",
      "source": [
        "# Save the trained model\n",
        "torch.save(model.state_dict(), \"lenet300_mnist.pth\")\n",
        "print('Model saved successfully')"
      ],
      "metadata": {
        "colab": {
          "base_uri": "https://localhost:8080/"
        },
        "id": "806vYWg9lc5J",
        "outputId": "f0ed9d37-0ad6-4568-fb4d-99522e83fcab"
      },
      "execution_count": null,
      "outputs": [
        {
          "output_type": "stream",
          "name": "stdout",
          "text": [
            "Model saved successfully\n"
          ]
        }
      ]
    },
    {
      "cell_type": "code",
      "source": [
        "for layer, param in model.named_parameters():\n",
        "    print(f\"layer.name: {layer} & param.shape = {param.shape}\")"
      ],
      "metadata": {
        "colab": {
          "base_uri": "https://localhost:8080/"
        },
        "id": "hmINuck6dBD_",
        "outputId": "ac879be8-84d0-4899-9bb6-def3051d242c"
      },
      "execution_count": null,
      "outputs": [
        {
          "output_type": "stream",
          "name": "stdout",
          "text": [
            "layer.name: fc1.weight & param.shape = torch.Size([300, 784])\n",
            "layer.name: fc1.bias & param.shape = torch.Size([300])\n",
            "layer.name: fc2.weight & param.shape = torch.Size([100, 300])\n",
            "layer.name: fc2.bias & param.shape = torch.Size([100])\n",
            "layer.name: out.weight & param.shape = torch.Size([10, 100])\n",
            "layer.name: out.bias & param.shape = torch.Size([10])\n"
          ]
        }
      ]
    },
    {
      "cell_type": "code",
      "source": [
        "import torch.nn.utils.prune as prune\n",
        "import matplotlib.pyplot as plt\n",
        "import time"
      ],
      "metadata": {
        "id": "EgghPxv5lrjY"
      },
      "execution_count": null,
      "outputs": []
    },
    {
      "cell_type": "code",
      "source": [
        "# Pruning Function\n",
        "def get_sparsity_accuracy(nmodel, test_data_loaded, device):\n",
        "  \"\"\"\n",
        "  Calculating sum of all weights = 0 in the model.\n",
        "  \"\"\"\n",
        "  global_sparsity = float(torch.sum(nmodel.fc1.weight == 0)) \n",
        "  global_sparsity += float(torch.sum(nmodel.fc2.weight == 0))\n",
        "\n",
        "  \"\"\"\n",
        "  Calculate total number of weights in the model.\n",
        "  \"\"\"\n",
        "  total_no_of_weights = float(nmodel.fc1.weight.nelement() + \n",
        "                              nmodel.fc2.weight.nelement())\n",
        "  \"\"\"\n",
        "    Calculating Sparsity =  (sum of all weights equal to 0) / (total number of weights in the model)\n",
        "  \"\"\"\n",
        "\n",
        "  percent_sparsity = 100.0 * (global_sparsity/total_no_of_weights)\n",
        "  print(\"Global sparsity: {:.2f}%\".format(percent_sparsity))\n",
        "\n",
        "  \"\"\"\n",
        "    Calculating the Accuracy of the pruned model on the Test set\n",
        "  \"\"\"\n",
        "\n",
        "  num_correct = 0\n",
        "  time_ = 0\n",
        "\n",
        "  for i,images in enumerate(test_data_loaded):\n",
        "      batch_images,batch_labels = images                           # iterate over the batches of training data\n",
        "      batch_images = batch_images.to(device)\n",
        "      batch_labels = batch_labels.to(device)\n",
        "      with torch.no_grad():\n",
        "          start = time.time()\n",
        "          outputs = nmodel(batch_images)                           # computing forward pass \n",
        "          end = time.time()\n",
        "          num_correct += (batch_labels == outputs.max(dim=1)[1])   # Calculating total number of correct outputs \n",
        "          time_ += end - start\n",
        "  accuracy = 100*num_correct.sum()/len(test_data_loaded.dataset)   # Accuracy = numbr of correct outputs / total test samples\n",
        "  print(\"Accuracy: {:.2f}%\".format(accuracy))\n",
        "  return [percent_sparsity,round(float(accuracy),2),float(time_)/float(i)]"
      ],
      "metadata": {
        "id": "15pmxfsXl-RA"
      },
      "execution_count": null,
      "outputs": []
    },
    {
      "cell_type": "code",
      "source": [
        "# Iitializing list of k values\n",
        "k_list = [val/100 for val in [0, 25, 50, 60, 70, 80, 90, 95, 97, 99]]"
      ],
      "metadata": {
        "id": "jiOG_HXWq0Mh"
      },
      "execution_count": null,
      "outputs": []
    },
    {
      "cell_type": "markdown",
      "source": [
        "1)  Perform Weight Pruning to prune away k% neurons/units for k in  [0, 25, 50, 60, 70, 80, 90, 95, 97, 99]\n",
        "\n",
        "2)  Choose all layers other than the output layer and rank the weights using the absolute values\n",
        "    by using the l1_unstructured function. \n",
        "\n",
        "3)  Calculate Sparsity in layers and the Accuracy of the Pruned model on the Test set."
      ],
      "metadata": {
        "id": "bmIWzY2zq5Qy"
      }
    },
    {
      "cell_type": "code",
      "source": [
        "data = []\n",
        "for k in k_list:\n",
        "  nmodel = LeNet300()\n",
        "  nmodel.load_state_dict(torch.load(\"lenet300_mnist.pth\"))\n",
        "  nmodel.to(device)\n",
        "\n",
        "  nmodel.eval()\n",
        "  \n",
        "  for name, module in nmodel.named_modules():\n",
        "    if name not in [\"\", 'out']:\n",
        "      prune.l1_unstructured(module, name='weight', amount=k)\n",
        "  data.append(get_sparsity_accuracy(nmodel,test_data_loaded,device))"
      ],
      "metadata": {
        "colab": {
          "base_uri": "https://localhost:8080/"
        },
        "id": "GdoIAkeBrFRx",
        "outputId": "0e5673de-a036-4c4f-c7ab-241e080e9a3a"
      },
      "execution_count": null,
      "outputs": [
        {
          "output_type": "stream",
          "name": "stdout",
          "text": [
            "Global sparsity: 0.00%\n",
            "Accuracy: 97.91%\n",
            "Global sparsity: 25.00%\n",
            "Accuracy: 97.93%\n",
            "Global sparsity: 50.00%\n",
            "Accuracy: 97.90%\n",
            "Global sparsity: 60.00%\n",
            "Accuracy: 97.95%\n",
            "Global sparsity: 70.00%\n",
            "Accuracy: 97.40%\n",
            "Global sparsity: 80.00%\n",
            "Accuracy: 96.44%\n",
            "Global sparsity: 90.00%\n",
            "Accuracy: 81.25%\n",
            "Global sparsity: 95.00%\n",
            "Accuracy: 37.84%\n",
            "Global sparsity: 97.00%\n",
            "Accuracy: 14.83%\n",
            "Global sparsity: 99.00%\n",
            "Accuracy: 9.75%\n"
          ]
        }
      ]
    },
    {
      "cell_type": "code",
      "source": [
        "# Plot sparsity/accuracy table\n",
        "import pandas as pd\n",
        "df = pd.DataFrame(data,columns=['% Sparsity', '% Accuracy',\"Execution Time\"])\n",
        "print(df) "
      ],
      "metadata": {
        "colab": {
          "base_uri": "https://localhost:8080/"
        },
        "id": "nm6EWqfHEiGq",
        "outputId": "b5bab093-521d-4633-d0f4-005283c75164"
      },
      "execution_count": null,
      "outputs": [
        {
          "output_type": "stream",
          "name": "stdout",
          "text": [
            "   % Sparsity  % Accuracy  Execution Time\n",
            "0         0.0       97.91        0.001882\n",
            "1        25.0       97.93        0.001822\n",
            "2        50.0       97.90        0.001865\n",
            "3        60.0       97.95        0.001850\n",
            "4        70.0       97.40        0.001823\n",
            "5        80.0       96.44        0.001870\n",
            "6        90.0       81.25        0.001897\n",
            "7        95.0       37.84        0.001853\n",
            "8        97.0       14.83        0.001844\n",
            "9        99.0        9.75        0.001898\n"
          ]
        }
      ]
    },
    {
      "cell_type": "code",
      "source": [
        "print(data)"
      ],
      "metadata": {
        "colab": {
          "base_uri": "https://localhost:8080/"
        },
        "id": "Tgx2k2iSEnHK",
        "outputId": "e3f1bc3a-1c9b-44f7-b57a-85da8eb7e5e6"
      },
      "execution_count": null,
      "outputs": [
        {
          "output_type": "stream",
          "name": "stdout",
          "text": [
            "[[0.0, 97.91, 0.001882081079964686], [25.0, 97.93, 0.0018220573964745107], [50.0, 97.9, 0.001864686156764175], [60.0, 97.95, 0.0018501113159487947], [70.0, 97.4, 0.0018232663472493489], [80.0, 96.44, 0.001869796502469766], [90.0, 81.25, 0.001897457874182499], [95.0, 37.84, 0.0018528206179840396], [97.0, 14.83, 0.0018440328463159427], [99.0, 9.75, 0.0018982453779740767]]\n"
          ]
        }
      ]
    },
    {
      "cell_type": "code",
      "source": [
        "# Plot accuracy plot for weight pruning\n",
        "df.plot(kind='line', x = '% Sparsity', y='% Accuracy', color='green')\n",
        "plt.title('Accuracy plot for Weight Pruning')\n",
        "plt.show()"
      ],
      "metadata": {
        "colab": {
          "base_uri": "https://localhost:8080/",
          "height": 295
        },
        "id": "TklSncPQEouE",
        "outputId": "53ba4479-c358-413c-fb7a-cbcf8886015e"
      },
      "execution_count": null,
      "outputs": [
        {
          "output_type": "display_data",
          "data": {
            "text/plain": [
              "<Figure size 432x288 with 1 Axes>"
            ],
            "image/png": "[encoded data removed]"
          },
          "metadata": {
            "needs_background": "light"
          }
        }
      ]
    },
    {
      "cell_type": "code",
      "source": [
        "df.plot(kind = 'line', x = '% Sparsity', y = \"Execution Time\", color = 'blue')\n",
        "plt.title(\"Execution Time plot for Weight Pruning\")\n",
        "plt.show()"
      ],
      "metadata": {
        "colab": {
          "base_uri": "https://localhost:8080/",
          "height": 295
        },
        "id": "wrONC83BEu4E",
        "outputId": "763a7744-5ff2-4f3d-fc5c-afebefeec079"
      },
      "execution_count": null,
      "outputs": [
        {
          "output_type": "display_data",
          "data": {
            "text/plain": [
              "<Figure size 432x288 with 1 Axes>"
            ],
            "image/png": "[encoded data removed]"
          },
          "metadata": {
            "needs_background": "light"
          }
        }
      ]
    },
    {
      "cell_type": "code",
      "source": [
        "torch.save(nmodel.state_dict(), \"pruned_lenet300_mnist.pth\")\n",
        "print('Model saved successfully')"
      ],
      "metadata": {
        "colab": {
          "base_uri": "https://localhost:8080/"
        },
        "id": "IZOpy8MyE67l",
        "outputId": "cfd7c7a9-3887-482c-9c54-3580eadbe4a1"
      },
      "execution_count": null,
      "outputs": [
        {
          "output_type": "stream",
          "name": "stdout",
          "text": [
            "Model saved successfully\n"
          ]
        }
      ]
    },
    {
      "cell_type": "code",
      "source": [
        "lenet5_data = [[0.0, 97.94, 0.060360400363652394], [24.52591083955646, 97.96, 0.0007608635256988834], [49.049558723693146, 97.26, 0.0006649927659468217], [58.85947046843177, 95.76, 0.0006527997026539812], [68.66938221317041, 93.69, 0.0006432774091007734], [78.47929395790902, 90.0, 0.0006381068566832879], [88.28920570264765, 51.22, 0.0006473714655095881], [93.19303009730709, 22.62, 0.0006484359201758799], [95.1572754016746, 9.59, 0.0006653491896812362], [97.11699479520254, 10.28, 0.0006796085473262902]]\n",
        "lenet5_df = pd.DataFrame(lenet5_data,columns=['% Sparsity', '% Accuracy',\"Execution Time\"])\n",
        "\n",
        "lenet100_data = [[0.0, 97.91, 0.001882081079964686], [25.0, 97.93, 0.0018220573964745107], [50.0, 97.9, 0.001864686156764175], [60.0, 97.95, 0.0018501113159487947], [70.0, 97.4, 0.0018232663472493489], [80.0, 96.44, 0.001869796502469766], [90.0, 81.25, 0.001897457874182499], [95.0, 37.84, 0.0018528206179840396], [97.0, 14.83, 0.0018440328463159427], [99.0, 9.75, 0.0018982453779740767]]\n",
        "lenet100_df = pd.DataFrame(lenet100_data,columns=['% Sparsity', '% Accuracy',\"Execution Time\"])\n",
        "\n",
        "resnet18_data = [[0.0, 89.36, 0.004443052487495618], [25.0, 88.59, 0.0043421540504846815], [50.0, 17.39, 0.0043526184864533255], [60.0, 9.02, 0.004493277806502122], [70.0, 10.0, 0.004999043085636237], [80.0, 10.0, 0.004368517643366105], [90.0, 10.0, 0.006090054145226112], [95.0, 10.0, 0.00435026181049836], [97.0, 10.0, 0.004341325698754726], [99.0, 10.0, 0.004421176054538825]]\n",
        "resnet18_df = pd.DataFrame(resnet18_data,columns=['% Sparsity', '% Accuracy',\"Execution Time\"])\n",
        "\n",
        "resnet50_data = [[0.0, 89.9, 0.010758129449991079], [25.0, 89.31, 0.013541722908998147], [50.0, 19.42, 0.0105247573974805], [60.0, 10.0, 0.01057653090892694], [70.0, 10.0, 0.010656688457880264], [80.0, 10.0, 0.010625059788043682], [90.0, 10.0, 0.01126955869870308], [95.0, 10.0, 0.011066348124773074], [97.0, 10.0, 0.01054756610821455], [99.0, 10.0, 0.010651837556790084]]\n",
        "resnet50_df = pd.DataFrame(resnet50_data,columns=['% Sparsity', '% Accuracy',\"Execution Time\"])\n",
        "\n",
        "ax = lenet5_df.plot(kind='line', x = '% Sparsity', y='% Accuracy', color='green', label='Lenet 5')\n",
        "lenet100_df.plot(x ='% Sparsity', y='% Accuracy', label='Lenet-300-100', ax=ax)\n",
        "resnet18_df.plot(x ='% Sparsity', y='% Accuracy', label='Resnet 18', ax=ax)\n",
        "resnet50_df.plot(x ='% Sparsity', y='% Accuracy', label='Resnet 50', ax=ax)\n",
        "\n",
        "plt.title('Accuracy plot for Weight Pruning')\n",
        "plt.show()"
      ],
      "metadata": {
        "colab": {
          "base_uri": "https://localhost:8080/",
          "height": 295
        },
        "id": "8ih7HibaQxl2",
        "outputId": "414538a3-8cc6-4d93-d7fe-abedd2042547"
      },
      "execution_count": null,
      "outputs": [
        {
          "output_type": "display_data",
          "data": {
            "text/plain": [
              "<Figure size 432x288 with 1 Axes>"
            ],
            "image/png": "[encoded data removed]"
          },
          "metadata": {
            "needs_background": "light"
          }
        }
      ]
    }
  ]
}