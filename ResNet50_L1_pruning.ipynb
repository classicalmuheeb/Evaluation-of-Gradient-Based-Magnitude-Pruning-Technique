{
  "nbformat": 4,
  "nbformat_minor": 0,
  "metadata": {
    "colab": {
      "provenance": []
    },
    "kernelspec": {
      "name": "python3",
      "display_name": "Python 3"
    },
    "language_info": {
      "name": "python"
    },
    "accelerator": "GPU",
    "gpuClass": "standard"
  },
  "cells": [
    {
      "cell_type": "code",
      "execution_count": null,
      "metadata": {
        "colab": {
          "base_uri": "https://localhost:8080/"
        },
        "id": "QeegSQoHMLBL",
        "outputId": "20204be6-b88e-4e4c-b355-5cdfee7f178c"
      },
      "outputs": [
        {
          "output_type": "stream",
          "name": "stdout",
          "text": [
            "Looking in indexes: https://pypi.org/simple, https://us-python.pkg.dev/colab-wheels/public/simple/\n",
            "Collecting pytorch_model_summary\n",
            "  Downloading pytorch_model_summary-0.1.2-py3-none-any.whl (9.3 kB)\n",
            "Requirement already satisfied: torch in /usr/local/lib/python3.8/dist-packages (from pytorch_model_summary) (1.13.1+cu116)\n",
            "Requirement already satisfied: numpy in /usr/local/lib/python3.8/dist-packages (from pytorch_model_summary) (1.21.6)\n",
            "Requirement already satisfied: tqdm in /usr/local/lib/python3.8/dist-packages (from pytorch_model_summary) (4.64.1)\n",
            "Requirement already satisfied: typing-extensions in /usr/local/lib/python3.8/dist-packages (from torch->pytorch_model_summary) (4.4.0)\n",
            "Installing collected packages: pytorch_model_summary\n",
            "Successfully installed pytorch_model_summary-0.1.2\n"
          ]
        }
      ],
      "source": [
        "!pip install pytorch_model_summary"
      ]
    },
    {
      "cell_type": "code",
      "source": [
        "#Import necessary libraries\n",
        "import torch\n",
        "import torchvision\n",
        "import torchvision.transforms as transforms\n",
        "import torch.nn.utils.prune as prune\n",
        "import torch.nn as nn\n",
        "import torch.optim as optim\n",
        "import torch.nn.functional as F\n",
        "import torch.backends.cudnn as cudnn\n",
        "import torch.nn.init as init\n",
        "from torch.optim.lr_scheduler import StepLR, ReduceLROnPlateau\n",
        "from torch.optim.lr_scheduler import StepLR, CosineAnnealingLR\n",
        "import numpy as np\n",
        "from torchvision import datasets, models, transforms\n",
        "from pytorch_model_summary import summary\n",
        "import time\n",
        "import copy, os\n",
        "import matplotlib.pyplot as plt\n",
        "\n",
        "%matplotlib inline"
      ],
      "metadata": {
        "id": "z-KsOKYtMrXA"
      },
      "execution_count": null,
      "outputs": []
    },
    {
      "cell_type": "markdown",
      "source": [
        "**Check for Device Availability**"
      ],
      "metadata": {
        "id": "_OSn9SHpM168"
      }
    },
    {
      "cell_type": "code",
      "source": [
        "# Check device availability\n",
        "device = torch.device(\"cuda\" if torch.cuda.is_available() else \"cpu\")\n",
        "print(f\"Available device: {device}\")"
      ],
      "metadata": {
        "colab": {
          "base_uri": "https://localhost:8080/"
        },
        "id": "KXYSz5yuM3uU",
        "outputId": "b2f519b9-ff08-41e1-b7c7-fc083e0221ec"
      },
      "execution_count": null,
      "outputs": [
        {
          "output_type": "stream",
          "name": "stdout",
          "text": [
            "Available device: cuda\n"
          ]
        }
      ]
    },
    {
      "cell_type": "markdown",
      "source": [
        "**Prepare Dataset**"
      ],
      "metadata": {
        "id": "8Xsk-aAfNoG7"
      }
    },
    {
      "cell_type": "code",
      "source": [
        "transform_train = transforms.Compose([\n",
        "    transforms.RandomCrop(32, padding=4),\n",
        "    transforms.RandomHorizontalFlip(),\n",
        "    transforms.ToTensor(),\n",
        "    transforms.Normalize((0.4914, 0.4822, 0.4465), (0.2023, 0.1994, 0.2010)),\n",
        "])"
      ],
      "metadata": {
        "id": "M4HsDZnLNrYx"
      },
      "execution_count": null,
      "outputs": []
    },
    {
      "cell_type": "code",
      "source": [
        "transform_test = transforms.Compose([\n",
        "    transforms.ToTensor(),\n",
        "    transforms.Normalize((0.4914, 0.4822, 0.4465), (0.2023, 0.1994, 0.2010)),\n",
        "])"
      ],
      "metadata": {
        "id": "uRUudP_7NxQF"
      },
      "execution_count": null,
      "outputs": []
    },
    {
      "cell_type": "code",
      "source": [
        "trainset = torchvision.datasets.CIFAR10(\n",
        "    root='./data', train=True, download=True, transform=transform_train)\n",
        "trainloader = torch.utils.data.DataLoader(\n",
        "    trainset, batch_size=64, shuffle=True)\n",
        "\n",
        "testset = torchvision.datasets.CIFAR10(\n",
        "    root='./data', train=False, download=True, transform=transform_test)\n",
        "testloader = torch.utils.data.DataLoader(\n",
        "    testset, batch_size=64, shuffle=False)\n",
        "\n",
        "classes = ('plane', 'car', 'bird', 'cat', 'deer',\n",
        "           'dog', 'frog', 'horse', 'ship', 'truck')"
      ],
      "metadata": {
        "colab": {
          "base_uri": "https://localhost:8080/"
        },
        "id": "Dq94YrctNzWW",
        "outputId": "31aaa2a9-77ef-4ab3-f44c-f4a4857ac3c3"
      },
      "execution_count": null,
      "outputs": [
        {
          "output_type": "stream",
          "name": "stdout",
          "text": [
            "Files already downloaded and verified\n",
            "Files already downloaded and verified\n"
          ]
        }
      ]
    },
    {
      "cell_type": "markdown",
      "source": [
        "**Model Definition**"
      ],
      "metadata": {
        "id": "i7wokBn0N3tS"
      }
    },
    {
      "cell_type": "code",
      "source": [
        "class Bottleneck(nn.Module):\n",
        "    expansion = 4\n",
        "\n",
        "    def __init__(self, in_planes, planes, stride=1):\n",
        "        super(Bottleneck, self).__init__()\n",
        "        DROPOUT = 0.1\n",
        "        self.conv1 = nn.Conv2d(in_planes, planes, kernel_size=1, bias=False)\n",
        "        self.bn1 = nn.BatchNorm2d(planes)\n",
        "        self.dropout = nn.Dropout(DROPOUT)\n",
        "        self.conv2 = nn.Conv2d(planes, planes, kernel_size=3,\n",
        "                               stride=stride, padding=1, bias=False)\n",
        "        self.bn2 = nn.BatchNorm2d(planes)\n",
        "        self.dropout = nn.Dropout(DROPOUT)\n",
        "        self.conv3 = nn.Conv2d(planes, self.expansion *\n",
        "                               planes, kernel_size=1, bias=False)\n",
        "        self.bn3 = nn.BatchNorm2d(self.expansion*planes)\n",
        "        self.dropout = nn.Dropout(DROPOUT)\n",
        "\n",
        "        self.shortcut = nn.Sequential()\n",
        "        if stride != 1 or in_planes != self.expansion*planes:\n",
        "            self.shortcut = nn.Sequential(\n",
        "                nn.Conv2d(in_planes, self.expansion*planes,\n",
        "                          kernel_size=1, stride=stride, bias=False),\n",
        "                nn.BatchNorm2d(self.expansion*planes),\n",
        "                nn.Dropout(DROPOUT)\n",
        "            )\n",
        "\n",
        "    def forward(self, x):\n",
        "        out = F.relu(self.dropout(self.bn1(self.conv1(x))))\n",
        "        out = self.dropout(self.bn2(self.conv2(out)))\n",
        "        out = self.dropout(self.bn3(self.conv3(out)))\n",
        "        out += self.shortcut(x)\n",
        "        out = F.relu(out)\n",
        "        return out\n",
        "\n",
        "class ResNet(nn.Module):\n",
        "    def __init__(self, block, num_blocks, num_classes=10):\n",
        "        super(ResNet, self).__init__()\n",
        "        self.in_planes = 64\n",
        "\n",
        "        self.conv1 = nn.Conv2d(3, 64, kernel_size=3,\n",
        "                               stride=1, padding=1, bias=False)\n",
        "        self.bn1 = nn.BatchNorm2d(64)\n",
        "        self.layer1 = self._make_layer(block, 64, num_blocks[0], stride=1)\n",
        "        self.layer2 = self._make_layer(block, 128, num_blocks[1], stride=2)\n",
        "        self.layer3 = self._make_layer(block, 256, num_blocks[2], stride=2)\n",
        "        self.layer4 = self._make_layer(block, 512, num_blocks[3], stride=2)\n",
        "        self.linear = nn.Linear(512*block.expansion, num_classes)\n",
        "\n",
        "    def _make_layer(self, block, planes, num_blocks, stride):\n",
        "        strides = [stride] + [1]*(num_blocks-1)\n",
        "        layers = []\n",
        "        for stride in strides:\n",
        "            layers.append(block(self.in_planes, planes, stride))\n",
        "            self.in_planes = planes * block.expansion\n",
        "        return nn.Sequential(*layers)\n",
        "\n",
        "    def forward(self, x):\n",
        "        out = F.relu(self.bn1(self.conv1(x)))\n",
        "        out = self.layer1(out)\n",
        "        out = self.layer2(out)\n",
        "        out = self.layer3(out)\n",
        "        out = self.layer4(out)\n",
        "        out = F.avg_pool2d(out, 4)\n",
        "        out = out.view(out.size(0), -1)\n",
        "        out = self.linear(out)\n",
        "        return F.log_softmax(out, dim=-1)\n",
        "\n",
        "def ResNet50():\n",
        "    return ResNet(Bottleneck, [3, 4, 6, 3])"
      ],
      "metadata": {
        "id": "SUqh3jYLN10l"
      },
      "execution_count": null,
      "outputs": []
    },
    {
      "cell_type": "markdown",
      "source": [
        "**Load Pretrained Model**"
      ],
      "metadata": {
        "id": "OWwtXAi7OCFG"
      }
    },
    {
      "cell_type": "code",
      "source": [
        "model = ResNet50()\n",
        "#model.load_state_dict(torch.load(\"resnet_50.pth\"))\n",
        "model.load_state_dict(torch.load(\"resnet_50.pth\"))\n",
        "model.to(torch.device(device))"
      ],
      "metadata": {
        "colab": {
          "base_uri": "https://localhost:8080/"
        },
        "id": "IXqRy1jmOIFu",
        "outputId": "ede07959-2da4-48d6-9829-8a2a6c919b98"
      },
      "execution_count": null,
      "outputs": [
        {
          "output_type": "execute_result",
          "data": {
            "text/plain": [
              "ResNet(\n",
              "  (conv1): Conv2d(3, 64, kernel_size=(3, 3), stride=(1, 1), padding=(1, 1), bias=False)\n",
              "  (bn1): BatchNorm2d(64, eps=1e-05, momentum=0.1, affine=True, track_running_stats=True)\n",
              "  (layer1): Sequential(\n",
              "    (0): Bottleneck(\n",
              "      (conv1): Conv2d(64, 64, kernel_size=(1, 1), stride=(1, 1), bias=False)\n",
              "      (bn1): BatchNorm2d(64, eps=1e-05, momentum=0.1, affine=True, track_running_stats=True)\n",
              "      (dropout): Dropout(p=0.1, inplace=False)\n",
              "      (conv2): Conv2d(64, 64, kernel_size=(3, 3), stride=(1, 1), padding=(1, 1), bias=False)\n",
              "      (bn2): BatchNorm2d(64, eps=1e-05, momentum=0.1, affine=True, track_running_stats=True)\n",
              "      (conv3): Conv2d(64, 256, kernel_size=(1, 1), stride=(1, 1), bias=False)\n",
              "      (bn3): BatchNorm2d(256, eps=1e-05, momentum=0.1, affine=True, track_running_stats=True)\n",
              "      (shortcut): Sequential(\n",
              "        (0): Conv2d(64, 256, kernel_size=(1, 1), stride=(1, 1), bias=False)\n",
              "        (1): BatchNorm2d(256, eps=1e-05, momentum=0.1, affine=True, track_running_stats=True)\n",
              "        (2): Dropout(p=0.1, inplace=False)\n",
              "      )\n",
              "    )\n",
              "    (1): Bottleneck(\n",
              "      (conv1): Conv2d(256, 64, kernel_size=(1, 1), stride=(1, 1), bias=False)\n",
              "      (bn1): BatchNorm2d(64, eps=1e-05, momentum=0.1, affine=True, track_running_stats=True)\n",
              "      (dropout): Dropout(p=0.1, inplace=False)\n",
              "      (conv2): Conv2d(64, 64, kernel_size=(3, 3), stride=(1, 1), padding=(1, 1), bias=False)\n",
              "      (bn2): BatchNorm2d(64, eps=1e-05, momentum=0.1, affine=True, track_running_stats=True)\n",
              "      (conv3): Conv2d(64, 256, kernel_size=(1, 1), stride=(1, 1), bias=False)\n",
              "      (bn3): BatchNorm2d(256, eps=1e-05, momentum=0.1, affine=True, track_running_stats=True)\n",
              "      (shortcut): Sequential()\n",
              "    )\n",
              "    (2): Bottleneck(\n",
              "      (conv1): Conv2d(256, 64, kernel_size=(1, 1), stride=(1, 1), bias=False)\n",
              "      (bn1): BatchNorm2d(64, eps=1e-05, momentum=0.1, affine=True, track_running_stats=True)\n",
              "      (dropout): Dropout(p=0.1, inplace=False)\n",
              "      (conv2): Conv2d(64, 64, kernel_size=(3, 3), stride=(1, 1), padding=(1, 1), bias=False)\n",
              "      (bn2): BatchNorm2d(64, eps=1e-05, momentum=0.1, affine=True, track_running_stats=True)\n",
              "      (conv3): Conv2d(64, 256, kernel_size=(1, 1), stride=(1, 1), bias=False)\n",
              "      (bn3): BatchNorm2d(256, eps=1e-05, momentum=0.1, affine=True, track_running_stats=True)\n",
              "      (shortcut): Sequential()\n",
              "    )\n",
              "  )\n",
              "  (layer2): Sequential(\n",
              "    (0): Bottleneck(\n",
              "      (conv1): Conv2d(256, 128, kernel_size=(1, 1), stride=(1, 1), bias=False)\n",
              "      (bn1): BatchNorm2d(128, eps=1e-05, momentum=0.1, affine=True, track_running_stats=True)\n",
              "      (dropout): Dropout(p=0.1, inplace=False)\n",
              "      (conv2): Conv2d(128, 128, kernel_size=(3, 3), stride=(2, 2), padding=(1, 1), bias=False)\n",
              "      (bn2): BatchNorm2d(128, eps=1e-05, momentum=0.1, affine=True, track_running_stats=True)\n",
              "      (conv3): Conv2d(128, 512, kernel_size=(1, 1), stride=(1, 1), bias=False)\n",
              "      (bn3): BatchNorm2d(512, eps=1e-05, momentum=0.1, affine=True, track_running_stats=True)\n",
              "      (shortcut): Sequential(\n",
              "        (0): Conv2d(256, 512, kernel_size=(1, 1), stride=(2, 2), bias=False)\n",
              "        (1): BatchNorm2d(512, eps=1e-05, momentum=0.1, affine=True, track_running_stats=True)\n",
              "        (2): Dropout(p=0.1, inplace=False)\n",
              "      )\n",
              "    )\n",
              "    (1): Bottleneck(\n",
              "      (conv1): Conv2d(512, 128, kernel_size=(1, 1), stride=(1, 1), bias=False)\n",
              "      (bn1): BatchNorm2d(128, eps=1e-05, momentum=0.1, affine=True, track_running_stats=True)\n",
              "      (dropout): Dropout(p=0.1, inplace=False)\n",
              "      (conv2): Conv2d(128, 128, kernel_size=(3, 3), stride=(1, 1), padding=(1, 1), bias=False)\n",
              "      (bn2): BatchNorm2d(128, eps=1e-05, momentum=0.1, affine=True, track_running_stats=True)\n",
              "      (conv3): Conv2d(128, 512, kernel_size=(1, 1), stride=(1, 1), bias=False)\n",
              "      (bn3): BatchNorm2d(512, eps=1e-05, momentum=0.1, affine=True, track_running_stats=True)\n",
              "      (shortcut): Sequential()\n",
              "    )\n",
              "    (2): Bottleneck(\n",
              "      (conv1): Conv2d(512, 128, kernel_size=(1, 1), stride=(1, 1), bias=False)\n",
              "      (bn1): BatchNorm2d(128, eps=1e-05, momentum=0.1, affine=True, track_running_stats=True)\n",
              "      (dropout): Dropout(p=0.1, inplace=False)\n",
              "      (conv2): Conv2d(128, 128, kernel_size=(3, 3), stride=(1, 1), padding=(1, 1), bias=False)\n",
              "      (bn2): BatchNorm2d(128, eps=1e-05, momentum=0.1, affine=True, track_running_stats=True)\n",
              "      (conv3): Conv2d(128, 512, kernel_size=(1, 1), stride=(1, 1), bias=False)\n",
              "      (bn3): BatchNorm2d(512, eps=1e-05, momentum=0.1, affine=True, track_running_stats=True)\n",
              "      (shortcut): Sequential()\n",
              "    )\n",
              "    (3): Bottleneck(\n",
              "      (conv1): Conv2d(512, 128, kernel_size=(1, 1), stride=(1, 1), bias=False)\n",
              "      (bn1): BatchNorm2d(128, eps=1e-05, momentum=0.1, affine=True, track_running_stats=True)\n",
              "      (dropout): Dropout(p=0.1, inplace=False)\n",
              "      (conv2): Conv2d(128, 128, kernel_size=(3, 3), stride=(1, 1), padding=(1, 1), bias=False)\n",
              "      (bn2): BatchNorm2d(128, eps=1e-05, momentum=0.1, affine=True, track_running_stats=True)\n",
              "      (conv3): Conv2d(128, 512, kernel_size=(1, 1), stride=(1, 1), bias=False)\n",
              "      (bn3): BatchNorm2d(512, eps=1e-05, momentum=0.1, affine=True, track_running_stats=True)\n",
              "      (shortcut): Sequential()\n",
              "    )\n",
              "  )\n",
              "  (layer3): Sequential(\n",
              "    (0): Bottleneck(\n",
              "      (conv1): Conv2d(512, 256, kernel_size=(1, 1), stride=(1, 1), bias=False)\n",
              "      (bn1): BatchNorm2d(256, eps=1e-05, momentum=0.1, affine=True, track_running_stats=True)\n",
              "      (dropout): Dropout(p=0.1, inplace=False)\n",
              "      (conv2): Conv2d(256, 256, kernel_size=(3, 3), stride=(2, 2), padding=(1, 1), bias=False)\n",
              "      (bn2): BatchNorm2d(256, eps=1e-05, momentum=0.1, affine=True, track_running_stats=True)\n",
              "      (conv3): Conv2d(256, 1024, kernel_size=(1, 1), stride=(1, 1), bias=False)\n",
              "      (bn3): BatchNorm2d(1024, eps=1e-05, momentum=0.1, affine=True, track_running_stats=True)\n",
              "      (shortcut): Sequential(\n",
              "        (0): Conv2d(512, 1024, kernel_size=(1, 1), stride=(2, 2), bias=False)\n",
              "        (1): BatchNorm2d(1024, eps=1e-05, momentum=0.1, affine=True, track_running_stats=True)\n",
              "        (2): Dropout(p=0.1, inplace=False)\n",
              "      )\n",
              "    )\n",
              "    (1): Bottleneck(\n",
              "      (conv1): Conv2d(1024, 256, kernel_size=(1, 1), stride=(1, 1), bias=False)\n",
              "      (bn1): BatchNorm2d(256, eps=1e-05, momentum=0.1, affine=True, track_running_stats=True)\n",
              "      (dropout): Dropout(p=0.1, inplace=False)\n",
              "      (conv2): Conv2d(256, 256, kernel_size=(3, 3), stride=(1, 1), padding=(1, 1), bias=False)\n",
              "      (bn2): BatchNorm2d(256, eps=1e-05, momentum=0.1, affine=True, track_running_stats=True)\n",
              "      (conv3): Conv2d(256, 1024, kernel_size=(1, 1), stride=(1, 1), bias=False)\n",
              "      (bn3): BatchNorm2d(1024, eps=1e-05, momentum=0.1, affine=True, track_running_stats=True)\n",
              "      (shortcut): Sequential()\n",
              "    )\n",
              "    (2): Bottleneck(\n",
              "      (conv1): Conv2d(1024, 256, kernel_size=(1, 1), stride=(1, 1), bias=False)\n",
              "      (bn1): BatchNorm2d(256, eps=1e-05, momentum=0.1, affine=True, track_running_stats=True)\n",
              "      (dropout): Dropout(p=0.1, inplace=False)\n",
              "      (conv2): Conv2d(256, 256, kernel_size=(3, 3), stride=(1, 1), padding=(1, 1), bias=False)\n",
              "      (bn2): BatchNorm2d(256, eps=1e-05, momentum=0.1, affine=True, track_running_stats=True)\n",
              "      (conv3): Conv2d(256, 1024, kernel_size=(1, 1), stride=(1, 1), bias=False)\n",
              "      (bn3): BatchNorm2d(1024, eps=1e-05, momentum=0.1, affine=True, track_running_stats=True)\n",
              "      (shortcut): Sequential()\n",
              "    )\n",
              "    (3): Bottleneck(\n",
              "      (conv1): Conv2d(1024, 256, kernel_size=(1, 1), stride=(1, 1), bias=False)\n",
              "      (bn1): BatchNorm2d(256, eps=1e-05, momentum=0.1, affine=True, track_running_stats=True)\n",
              "      (dropout): Dropout(p=0.1, inplace=False)\n",
              "      (conv2): Conv2d(256, 256, kernel_size=(3, 3), stride=(1, 1), padding=(1, 1), bias=False)\n",
              "      (bn2): BatchNorm2d(256, eps=1e-05, momentum=0.1, affine=True, track_running_stats=True)\n",
              "      (conv3): Conv2d(256, 1024, kernel_size=(1, 1), stride=(1, 1), bias=False)\n",
              "      (bn3): BatchNorm2d(1024, eps=1e-05, momentum=0.1, affine=True, track_running_stats=True)\n",
              "      (shortcut): Sequential()\n",
              "    )\n",
              "    (4): Bottleneck(\n",
              "      (conv1): Conv2d(1024, 256, kernel_size=(1, 1), stride=(1, 1), bias=False)\n",
              "      (bn1): BatchNorm2d(256, eps=1e-05, momentum=0.1, affine=True, track_running_stats=True)\n",
              "      (dropout): Dropout(p=0.1, inplace=False)\n",
              "      (conv2): Conv2d(256, 256, kernel_size=(3, 3), stride=(1, 1), padding=(1, 1), bias=False)\n",
              "      (bn2): BatchNorm2d(256, eps=1e-05, momentum=0.1, affine=True, track_running_stats=True)\n",
              "      (conv3): Conv2d(256, 1024, kernel_size=(1, 1), stride=(1, 1), bias=False)\n",
              "      (bn3): BatchNorm2d(1024, eps=1e-05, momentum=0.1, affine=True, track_running_stats=True)\n",
              "      (shortcut): Sequential()\n",
              "    )\n",
              "    (5): Bottleneck(\n",
              "      (conv1): Conv2d(1024, 256, kernel_size=(1, 1), stride=(1, 1), bias=False)\n",
              "      (bn1): BatchNorm2d(256, eps=1e-05, momentum=0.1, affine=True, track_running_stats=True)\n",
              "      (dropout): Dropout(p=0.1, inplace=False)\n",
              "      (conv2): Conv2d(256, 256, kernel_size=(3, 3), stride=(1, 1), padding=(1, 1), bias=False)\n",
              "      (bn2): BatchNorm2d(256, eps=1e-05, momentum=0.1, affine=True, track_running_stats=True)\n",
              "      (conv3): Conv2d(256, 1024, kernel_size=(1, 1), stride=(1, 1), bias=False)\n",
              "      (bn3): BatchNorm2d(1024, eps=1e-05, momentum=0.1, affine=True, track_running_stats=True)\n",
              "      (shortcut): Sequential()\n",
              "    )\n",
              "  )\n",
              "  (layer4): Sequential(\n",
              "    (0): Bottleneck(\n",
              "      (conv1): Conv2d(1024, 512, kernel_size=(1, 1), stride=(1, 1), bias=False)\n",
              "      (bn1): BatchNorm2d(512, eps=1e-05, momentum=0.1, affine=True, track_running_stats=True)\n",
              "      (dropout): Dropout(p=0.1, inplace=False)\n",
              "      (conv2): Conv2d(512, 512, kernel_size=(3, 3), stride=(2, 2), padding=(1, 1), bias=False)\n",
              "      (bn2): BatchNorm2d(512, eps=1e-05, momentum=0.1, affine=True, track_running_stats=True)\n",
              "      (conv3): Conv2d(512, 2048, kernel_size=(1, 1), stride=(1, 1), bias=False)\n",
              "      (bn3): BatchNorm2d(2048, eps=1e-05, momentum=0.1, affine=True, track_running_stats=True)\n",
              "      (shortcut): Sequential(\n",
              "        (0): Conv2d(1024, 2048, kernel_size=(1, 1), stride=(2, 2), bias=False)\n",
              "        (1): BatchNorm2d(2048, eps=1e-05, momentum=0.1, affine=True, track_running_stats=True)\n",
              "        (2): Dropout(p=0.1, inplace=False)\n",
              "      )\n",
              "    )\n",
              "    (1): Bottleneck(\n",
              "      (conv1): Conv2d(2048, 512, kernel_size=(1, 1), stride=(1, 1), bias=False)\n",
              "      (bn1): BatchNorm2d(512, eps=1e-05, momentum=0.1, affine=True, track_running_stats=True)\n",
              "      (dropout): Dropout(p=0.1, inplace=False)\n",
              "      (conv2): Conv2d(512, 512, kernel_size=(3, 3), stride=(1, 1), padding=(1, 1), bias=False)\n",
              "      (bn2): BatchNorm2d(512, eps=1e-05, momentum=0.1, affine=True, track_running_stats=True)\n",
              "      (conv3): Conv2d(512, 2048, kernel_size=(1, 1), stride=(1, 1), bias=False)\n",
              "      (bn3): BatchNorm2d(2048, eps=1e-05, momentum=0.1, affine=True, track_running_stats=True)\n",
              "      (shortcut): Sequential()\n",
              "    )\n",
              "    (2): Bottleneck(\n",
              "      (conv1): Conv2d(2048, 512, kernel_size=(1, 1), stride=(1, 1), bias=False)\n",
              "      (bn1): BatchNorm2d(512, eps=1e-05, momentum=0.1, affine=True, track_running_stats=True)\n",
              "      (dropout): Dropout(p=0.1, inplace=False)\n",
              "      (conv2): Conv2d(512, 512, kernel_size=(3, 3), stride=(1, 1), padding=(1, 1), bias=False)\n",
              "      (bn2): BatchNorm2d(512, eps=1e-05, momentum=0.1, affine=True, track_running_stats=True)\n",
              "      (conv3): Conv2d(512, 2048, kernel_size=(1, 1), stride=(1, 1), bias=False)\n",
              "      (bn3): BatchNorm2d(2048, eps=1e-05, momentum=0.1, affine=True, track_running_stats=True)\n",
              "      (shortcut): Sequential()\n",
              "    )\n",
              "  )\n",
              "  (linear): Linear(in_features=2048, out_features=10, bias=True)\n",
              ")"
            ]
          },
          "metadata": {},
          "execution_count": 80
        }
      ]
    },
    {
      "cell_type": "code",
      "source": [
        "for layer, param in model.named_parameters():\n",
        "    print(f\"layer.name: {layer} & param.shape = {param.shape}\")"
      ],
      "metadata": {
        "colab": {
          "base_uri": "https://localhost:8080/"
        },
        "id": "JGqMfgBjOiqj",
        "outputId": "40ac4f29-df8f-461b-b593-6050882b7430"
      },
      "execution_count": null,
      "outputs": [
        {
          "output_type": "stream",
          "name": "stdout",
          "text": [
            "layer.name: conv1.weight & param.shape = torch.Size([64, 3, 3, 3])\n",
            "layer.name: bn1.weight & param.shape = torch.Size([64])\n",
            "layer.name: bn1.bias & param.shape = torch.Size([64])\n",
            "layer.name: layer1.0.conv1.weight & param.shape = torch.Size([64, 64, 1, 1])\n",
            "layer.name: layer1.0.bn1.weight & param.shape = torch.Size([64])\n",
            "layer.name: layer1.0.bn1.bias & param.shape = torch.Size([64])\n",
            "layer.name: layer1.0.conv2.weight & param.shape = torch.Size([64, 64, 3, 3])\n",
            "layer.name: layer1.0.bn2.weight & param.shape = torch.Size([64])\n",
            "layer.name: layer1.0.bn2.bias & param.shape = torch.Size([64])\n",
            "layer.name: layer1.0.conv3.weight & param.shape = torch.Size([256, 64, 1, 1])\n",
            "layer.name: layer1.0.bn3.weight & param.shape = torch.Size([256])\n",
            "layer.name: layer1.0.bn3.bias & param.shape = torch.Size([256])\n",
            "layer.name: layer1.0.shortcut.0.weight & param.shape = torch.Size([256, 64, 1, 1])\n",
            "layer.name: layer1.0.shortcut.1.weight & param.shape = torch.Size([256])\n",
            "layer.name: layer1.0.shortcut.1.bias & param.shape = torch.Size([256])\n",
            "layer.name: layer1.1.conv1.weight & param.shape = torch.Size([64, 256, 1, 1])\n",
            "layer.name: layer1.1.bn1.weight & param.shape = torch.Size([64])\n",
            "layer.name: layer1.1.bn1.bias & param.shape = torch.Size([64])\n",
            "layer.name: layer1.1.conv2.weight & param.shape = torch.Size([64, 64, 3, 3])\n",
            "layer.name: layer1.1.bn2.weight & param.shape = torch.Size([64])\n",
            "layer.name: layer1.1.bn2.bias & param.shape = torch.Size([64])\n",
            "layer.name: layer1.1.conv3.weight & param.shape = torch.Size([256, 64, 1, 1])\n",
            "layer.name: layer1.1.bn3.weight & param.shape = torch.Size([256])\n",
            "layer.name: layer1.1.bn3.bias & param.shape = torch.Size([256])\n",
            "layer.name: layer1.2.conv1.weight & param.shape = torch.Size([64, 256, 1, 1])\n",
            "layer.name: layer1.2.bn1.weight & param.shape = torch.Size([64])\n",
            "layer.name: layer1.2.bn1.bias & param.shape = torch.Size([64])\n",
            "layer.name: layer1.2.conv2.weight & param.shape = torch.Size([64, 64, 3, 3])\n",
            "layer.name: layer1.2.bn2.weight & param.shape = torch.Size([64])\n",
            "layer.name: layer1.2.bn2.bias & param.shape = torch.Size([64])\n",
            "layer.name: layer1.2.conv3.weight & param.shape = torch.Size([256, 64, 1, 1])\n",
            "layer.name: layer1.2.bn3.weight & param.shape = torch.Size([256])\n",
            "layer.name: layer1.2.bn3.bias & param.shape = torch.Size([256])\n",
            "layer.name: layer2.0.conv1.weight & param.shape = torch.Size([128, 256, 1, 1])\n",
            "layer.name: layer2.0.bn1.weight & param.shape = torch.Size([128])\n",
            "layer.name: layer2.0.bn1.bias & param.shape = torch.Size([128])\n",
            "layer.name: layer2.0.conv2.weight & param.shape = torch.Size([128, 128, 3, 3])\n",
            "layer.name: layer2.0.bn2.weight & param.shape = torch.Size([128])\n",
            "layer.name: layer2.0.bn2.bias & param.shape = torch.Size([128])\n",
            "layer.name: layer2.0.conv3.weight & param.shape = torch.Size([512, 128, 1, 1])\n",
            "layer.name: layer2.0.bn3.weight & param.shape = torch.Size([512])\n",
            "layer.name: layer2.0.bn3.bias & param.shape = torch.Size([512])\n",
            "layer.name: layer2.0.shortcut.0.weight & param.shape = torch.Size([512, 256, 1, 1])\n",
            "layer.name: layer2.0.shortcut.1.weight & param.shape = torch.Size([512])\n",
            "layer.name: layer2.0.shortcut.1.bias & param.shape = torch.Size([512])\n",
            "layer.name: layer2.1.conv1.weight & param.shape = torch.Size([128, 512, 1, 1])\n",
            "layer.name: layer2.1.bn1.weight & param.shape = torch.Size([128])\n",
            "layer.name: layer2.1.bn1.bias & param.shape = torch.Size([128])\n",
            "layer.name: layer2.1.conv2.weight & param.shape = torch.Size([128, 128, 3, 3])\n",
            "layer.name: layer2.1.bn2.weight & param.shape = torch.Size([128])\n",
            "layer.name: layer2.1.bn2.bias & param.shape = torch.Size([128])\n",
            "layer.name: layer2.1.conv3.weight & param.shape = torch.Size([512, 128, 1, 1])\n",
            "layer.name: layer2.1.bn3.weight & param.shape = torch.Size([512])\n",
            "layer.name: layer2.1.bn3.bias & param.shape = torch.Size([512])\n",
            "layer.name: layer2.2.conv1.weight & param.shape = torch.Size([128, 512, 1, 1])\n",
            "layer.name: layer2.2.bn1.weight & param.shape = torch.Size([128])\n",
            "layer.name: layer2.2.bn1.bias & param.shape = torch.Size([128])\n",
            "layer.name: layer2.2.conv2.weight & param.shape = torch.Size([128, 128, 3, 3])\n",
            "layer.name: layer2.2.bn2.weight & param.shape = torch.Size([128])\n",
            "layer.name: layer2.2.bn2.bias & param.shape = torch.Size([128])\n",
            "layer.name: layer2.2.conv3.weight & param.shape = torch.Size([512, 128, 1, 1])\n",
            "layer.name: layer2.2.bn3.weight & param.shape = torch.Size([512])\n",
            "layer.name: layer2.2.bn3.bias & param.shape = torch.Size([512])\n",
            "layer.name: layer2.3.conv1.weight & param.shape = torch.Size([128, 512, 1, 1])\n",
            "layer.name: layer2.3.bn1.weight & param.shape = torch.Size([128])\n",
            "layer.name: layer2.3.bn1.bias & param.shape = torch.Size([128])\n",
            "layer.name: layer2.3.conv2.weight & param.shape = torch.Size([128, 128, 3, 3])\n",
            "layer.name: layer2.3.bn2.weight & param.shape = torch.Size([128])\n",
            "layer.name: layer2.3.bn2.bias & param.shape = torch.Size([128])\n",
            "layer.name: layer2.3.conv3.weight & param.shape = torch.Size([512, 128, 1, 1])\n",
            "layer.name: layer2.3.bn3.weight & param.shape = torch.Size([512])\n",
            "layer.name: layer2.3.bn3.bias & param.shape = torch.Size([512])\n",
            "layer.name: layer3.0.conv1.weight & param.shape = torch.Size([256, 512, 1, 1])\n",
            "layer.name: layer3.0.bn1.weight & param.shape = torch.Size([256])\n",
            "layer.name: layer3.0.bn1.bias & param.shape = torch.Size([256])\n",
            "layer.name: layer3.0.conv2.weight & param.shape = torch.Size([256, 256, 3, 3])\n",
            "layer.name: layer3.0.bn2.weight & param.shape = torch.Size([256])\n",
            "layer.name: layer3.0.bn2.bias & param.shape = torch.Size([256])\n",
            "layer.name: layer3.0.conv3.weight & param.shape = torch.Size([1024, 256, 1, 1])\n",
            "layer.name: layer3.0.bn3.weight & param.shape = torch.Size([1024])\n",
            "layer.name: layer3.0.bn3.bias & param.shape = torch.Size([1024])\n",
            "layer.name: layer3.0.shortcut.0.weight & param.shape = torch.Size([1024, 512, 1, 1])\n",
            "layer.name: layer3.0.shortcut.1.weight & param.shape = torch.Size([1024])\n",
            "layer.name: layer3.0.shortcut.1.bias & param.shape = torch.Size([1024])\n",
            "layer.name: layer3.1.conv1.weight & param.shape = torch.Size([256, 1024, 1, 1])\n",
            "layer.name: layer3.1.bn1.weight & param.shape = torch.Size([256])\n",
            "layer.name: layer3.1.bn1.bias & param.shape = torch.Size([256])\n",
            "layer.name: layer3.1.conv2.weight & param.shape = torch.Size([256, 256, 3, 3])\n",
            "layer.name: layer3.1.bn2.weight & param.shape = torch.Size([256])\n",
            "layer.name: layer3.1.bn2.bias & param.shape = torch.Size([256])\n",
            "layer.name: layer3.1.conv3.weight & param.shape = torch.Size([1024, 256, 1, 1])\n",
            "layer.name: layer3.1.bn3.weight & param.shape = torch.Size([1024])\n",
            "layer.name: layer3.1.bn3.bias & param.shape = torch.Size([1024])\n",
            "layer.name: layer3.2.conv1.weight & param.shape = torch.Size([256, 1024, 1, 1])\n",
            "layer.name: layer3.2.bn1.weight & param.shape = torch.Size([256])\n",
            "layer.name: layer3.2.bn1.bias & param.shape = torch.Size([256])\n",
            "layer.name: layer3.2.conv2.weight & param.shape = torch.Size([256, 256, 3, 3])\n",
            "layer.name: layer3.2.bn2.weight & param.shape = torch.Size([256])\n",
            "layer.name: layer3.2.bn2.bias & param.shape = torch.Size([256])\n",
            "layer.name: layer3.2.conv3.weight & param.shape = torch.Size([1024, 256, 1, 1])\n",
            "layer.name: layer3.2.bn3.weight & param.shape = torch.Size([1024])\n",
            "layer.name: layer3.2.bn3.bias & param.shape = torch.Size([1024])\n",
            "layer.name: layer3.3.conv1.weight & param.shape = torch.Size([256, 1024, 1, 1])\n",
            "layer.name: layer3.3.bn1.weight & param.shape = torch.Size([256])\n",
            "layer.name: layer3.3.bn1.bias & param.shape = torch.Size([256])\n",
            "layer.name: layer3.3.conv2.weight & param.shape = torch.Size([256, 256, 3, 3])\n",
            "layer.name: layer3.3.bn2.weight & param.shape = torch.Size([256])\n",
            "layer.name: layer3.3.bn2.bias & param.shape = torch.Size([256])\n",
            "layer.name: layer3.3.conv3.weight & param.shape = torch.Size([1024, 256, 1, 1])\n",
            "layer.name: layer3.3.bn3.weight & param.shape = torch.Size([1024])\n",
            "layer.name: layer3.3.bn3.bias & param.shape = torch.Size([1024])\n",
            "layer.name: layer3.4.conv1.weight & param.shape = torch.Size([256, 1024, 1, 1])\n",
            "layer.name: layer3.4.bn1.weight & param.shape = torch.Size([256])\n",
            "layer.name: layer3.4.bn1.bias & param.shape = torch.Size([256])\n",
            "layer.name: layer3.4.conv2.weight & param.shape = torch.Size([256, 256, 3, 3])\n",
            "layer.name: layer3.4.bn2.weight & param.shape = torch.Size([256])\n",
            "layer.name: layer3.4.bn2.bias & param.shape = torch.Size([256])\n",
            "layer.name: layer3.4.conv3.weight & param.shape = torch.Size([1024, 256, 1, 1])\n",
            "layer.name: layer3.4.bn3.weight & param.shape = torch.Size([1024])\n",
            "layer.name: layer3.4.bn3.bias & param.shape = torch.Size([1024])\n",
            "layer.name: layer3.5.conv1.weight & param.shape = torch.Size([256, 1024, 1, 1])\n",
            "layer.name: layer3.5.bn1.weight & param.shape = torch.Size([256])\n",
            "layer.name: layer3.5.bn1.bias & param.shape = torch.Size([256])\n",
            "layer.name: layer3.5.conv2.weight & param.shape = torch.Size([256, 256, 3, 3])\n",
            "layer.name: layer3.5.bn2.weight & param.shape = torch.Size([256])\n",
            "layer.name: layer3.5.bn2.bias & param.shape = torch.Size([256])\n",
            "layer.name: layer3.5.conv3.weight & param.shape = torch.Size([1024, 256, 1, 1])\n",
            "layer.name: layer3.5.bn3.weight & param.shape = torch.Size([1024])\n",
            "layer.name: layer3.5.bn3.bias & param.shape = torch.Size([1024])\n",
            "layer.name: layer4.0.conv1.weight & param.shape = torch.Size([512, 1024, 1, 1])\n",
            "layer.name: layer4.0.bn1.weight & param.shape = torch.Size([512])\n",
            "layer.name: layer4.0.bn1.bias & param.shape = torch.Size([512])\n",
            "layer.name: layer4.0.conv2.weight & param.shape = torch.Size([512, 512, 3, 3])\n",
            "layer.name: layer4.0.bn2.weight & param.shape = torch.Size([512])\n",
            "layer.name: layer4.0.bn2.bias & param.shape = torch.Size([512])\n",
            "layer.name: layer4.0.conv3.weight & param.shape = torch.Size([2048, 512, 1, 1])\n",
            "layer.name: layer4.0.bn3.weight & param.shape = torch.Size([2048])\n",
            "layer.name: layer4.0.bn3.bias & param.shape = torch.Size([2048])\n",
            "layer.name: layer4.0.shortcut.0.weight & param.shape = torch.Size([2048, 1024, 1, 1])\n",
            "layer.name: layer4.0.shortcut.1.weight & param.shape = torch.Size([2048])\n",
            "layer.name: layer4.0.shortcut.1.bias & param.shape = torch.Size([2048])\n",
            "layer.name: layer4.1.conv1.weight & param.shape = torch.Size([512, 2048, 1, 1])\n",
            "layer.name: layer4.1.bn1.weight & param.shape = torch.Size([512])\n",
            "layer.name: layer4.1.bn1.bias & param.shape = torch.Size([512])\n",
            "layer.name: layer4.1.conv2.weight & param.shape = torch.Size([512, 512, 3, 3])\n",
            "layer.name: layer4.1.bn2.weight & param.shape = torch.Size([512])\n",
            "layer.name: layer4.1.bn2.bias & param.shape = torch.Size([512])\n",
            "layer.name: layer4.1.conv3.weight & param.shape = torch.Size([2048, 512, 1, 1])\n",
            "layer.name: layer4.1.bn3.weight & param.shape = torch.Size([2048])\n",
            "layer.name: layer4.1.bn3.bias & param.shape = torch.Size([2048])\n",
            "layer.name: layer4.2.conv1.weight & param.shape = torch.Size([512, 2048, 1, 1])\n",
            "layer.name: layer4.2.bn1.weight & param.shape = torch.Size([512])\n",
            "layer.name: layer4.2.bn1.bias & param.shape = torch.Size([512])\n",
            "layer.name: layer4.2.conv2.weight & param.shape = torch.Size([512, 512, 3, 3])\n",
            "layer.name: layer4.2.bn2.weight & param.shape = torch.Size([512])\n",
            "layer.name: layer4.2.bn2.bias & param.shape = torch.Size([512])\n",
            "layer.name: layer4.2.conv3.weight & param.shape = torch.Size([2048, 512, 1, 1])\n",
            "layer.name: layer4.2.bn3.weight & param.shape = torch.Size([2048])\n",
            "layer.name: layer4.2.bn3.bias & param.shape = torch.Size([2048])\n",
            "layer.name: linear.weight & param.shape = torch.Size([10, 2048])\n",
            "layer.name: linear.bias & param.shape = torch.Size([10])\n"
          ]
        }
      ]
    },
    {
      "cell_type": "code",
      "source": [
        "def measure_module_sparsity(module, weight=True, bias=False, use_mask=False):\n",
        "\n",
        "    num_zeros = 0\n",
        "    num_elements = 0\n",
        "\n",
        "    if use_mask == True:\n",
        "        for buffer_name, buffer in module.named_buffers():\n",
        "            if \"weight_mask\" in buffer_name and weight == True:\n",
        "                num_zeros += torch.sum(buffer == 0).item()\n",
        "                num_elements += buffer.nelement()\n",
        "            if \"bias_mask\" in buffer_name and bias == True:\n",
        "                num_zeros += torch.sum(buffer == 0).item()\n",
        "                num_elements += buffer.nelement()\n",
        "    else:\n",
        "        for param_name, param in module.named_parameters():\n",
        "            if \"weight\" in param_name and weight == True:\n",
        "                num_zeros += torch.sum(param == 0).item()\n",
        "                num_elements += param.nelement()\n",
        "            if \"bias\" in param_name and bias == True:\n",
        "                num_zeros += torch.sum(param == 0).item()\n",
        "                num_elements += param.nelement()\n",
        "\n",
        "    sparsity = num_zeros / num_elements\n",
        "\n",
        "    return num_zeros, num_elements, sparsity"
      ],
      "metadata": {
        "id": "-92Rchn2IJL3"
      },
      "execution_count": null,
      "outputs": []
    },
    {
      "cell_type": "code",
      "source": [
        "def measure_module_sparsity(module, weight=True, bias=False, use_mask=False):\n",
        "\n",
        "    num_zeros = 0\n",
        "    num_elements = 0\n",
        "\n",
        "    if use_mask == True:\n",
        "        for buffer_name, buffer in module.named_buffers():\n",
        "            if \"weight_mask\" in buffer_name and weight == True:\n",
        "                num_zeros += torch.sum(buffer == 0).item()\n",
        "                num_elements += buffer.nelement()\n",
        "            if \"bias_mask\" in buffer_name and bias == True:\n",
        "                num_zeros += torch.sum(buffer == 0).item()\n",
        "                num_elements += buffer.nelement()\n",
        "    else:\n",
        "        for param_name, param in module.named_parameters():\n",
        "            if \"weight\" in param_name and weight == True:\n",
        "                num_zeros += torch.sum(param == 0).item()\n",
        "                num_elements += param.nelement()\n",
        "            if \"bias\" in param_name and bias == True:\n",
        "                num_zeros += torch.sum(param == 0).item()\n",
        "                num_elements += param.nelement()\n",
        "\n",
        "    sparsity = num_zeros / num_elements\n",
        "\n",
        "    return num_zeros, num_elements, sparsity"
      ],
      "metadata": {
        "id": "6hOwN74LQGDk"
      },
      "execution_count": null,
      "outputs": []
    },
    {
      "cell_type": "code",
      "source": [
        "def measure_global_sparsity_acc( model, testloader, device, weight = True,\n",
        "    bias = False, conv2d_use_mask = False, linear_use_mask = False):\n",
        "\n",
        "    num_zeros = 0\n",
        "    num_elements = 0\n",
        "\n",
        "    for module_name, module in model.named_modules():\n",
        "        if isinstance(module, torch.nn.Conv2d):\n",
        "            module_num_zeros, module_num_elements, _ = measure_module_sparsity(\n",
        "                module, weight=weight, bias=bias, use_mask=conv2d_use_mask)\n",
        "            num_zeros += module_num_zeros\n",
        "            num_elements += module_num_elements\n",
        "\n",
        "        elif isinstance(module, torch.nn.Linear):\n",
        "            module_num_zeros, module_num_elements, _ = measure_module_sparsity(\n",
        "                module, weight=weight, bias=bias, use_mask=linear_use_mask)\n",
        "            num_zeros += module_num_zeros\n",
        "            num_elements += module_num_elements\n",
        "\n",
        "    sparsity = num_zeros / num_elements\n",
        "\n",
        "    sparsity_percent = 100.0 * sparsity\n",
        "    print(\"Global Sparsity: {:.2f}%\".format(sparsity_percent))\n",
        "    \n",
        "    \"\"\"\n",
        "    Calculate the accuracy of the pruned model on the test set\n",
        "    \"\"\"\n",
        "    num_correct = 0\n",
        "    time_ = 0\n",
        "    #Label =  0\n",
        "    classes = ('plane', 'car', 'bird', 'cat', 'deer', 'dog', 'frog', 'horse', 'ship', 'truck')\n",
        "\n",
        "    for index, (inputs, targets) in enumerate(testloader):\n",
        "      inputs, targets = inputs.to(device), targets.to(device)\n",
        "      with torch.no_grad():\n",
        "        start = time.time()\n",
        "        outputs = model(inputs)\n",
        "        pred = outputs.argmax(dim=1, keepdim=True)\n",
        "        end = time.time()\n",
        "        num_correct += pred.eq(targets.view_as(pred)).sum().item()\n",
        "        time_ += end - start\n",
        "    accuracy = 100*num_correct/len(testloader.dataset)   # Accuracy = numbr of correct outputs / total test samples\n",
        "    print(\"Accuracy: {:.2f}%\".format(accuracy))\n",
        "    return [sparsity_percent, round(float(accuracy), 2), float(time_)/float(index)]"
      ],
      "metadata": {
        "id": "hxyG14mNTNu8"
      },
      "execution_count": null,
      "outputs": []
    },
    {
      "cell_type": "code",
      "source": [
        "# Iitializing list of k values\n",
        "k_list = [val/100 for val in [0, 25, 50, 60, 70, 80, 90, 95, 97, 99]]"
      ],
      "metadata": {
        "id": "A2NBQrLVWr7I"
      },
      "execution_count": null,
      "outputs": []
    },
    {
      "cell_type": "markdown",
      "source": [
        "\n",
        "1)  Perform Weight Pruning to prune away k% neurons/units for k in  [0, 25, 50, 60, 70, 80, 90, 95, 97, 99]\n",
        "\n",
        "2)  Choose all layers other than the output layer and rank the weights using the absolute values\n",
        "    by using the l1_unstructured function. \n",
        "\n",
        "3)  Calculate Sparsity in layers and the Accuracy of the Pruned model on the Test set."
      ],
      "metadata": {
        "id": "TTh2tyiaWxUA"
      }
    },
    {
      "cell_type": "code",
      "source": [
        "data = []\n",
        "for k in k_list:\n",
        "  model.eval()\n",
        "  for name, module in model.named_modules():\n",
        "    if isinstance(module, torch.nn.Conv2d):\n",
        "      prune.l1_unstructured(module, name = 'weight', amount=k)\n",
        "    elif isinstance(module, torch.nn.Linear):\n",
        "      prune.l1_unstructured(module, name = 'weight', amount=k)\n",
        "  data.append(measure_global_sparsity_acc(model, testloader, device))"
      ],
      "metadata": {
        "colab": {
          "base_uri": "https://localhost:8080/"
        },
        "id": "RQ7_YZ98W1Hx",
        "outputId": "c6433e35-65e9-4366-a332-b8365b160104"
      },
      "execution_count": null,
      "outputs": [
        {
          "output_type": "stream",
          "name": "stdout",
          "text": [
            "Global Sparsity: 0.00%\n",
            "Accuracy: 89.90%\n",
            "Global Sparsity: 0.00%\n",
            "Accuracy: 89.31%\n",
            "Global Sparsity: 0.00%\n",
            "Accuracy: 19.42%\n",
            "Global Sparsity: 0.00%\n",
            "Accuracy: 10.00%\n",
            "Global Sparsity: 0.00%\n",
            "Accuracy: 10.00%\n",
            "Global Sparsity: 0.00%\n",
            "Accuracy: 10.00%\n",
            "Global Sparsity: 0.00%\n",
            "Accuracy: 10.00%\n",
            "Global Sparsity: 0.00%\n",
            "Accuracy: 10.00%\n",
            "Global Sparsity: 0.00%\n",
            "Accuracy: 10.00%\n",
            "Global Sparsity: 0.00%\n",
            "Accuracy: 10.00%\n"
          ]
        }
      ]
    },
    {
      "cell_type": "code",
      "source": [
        "print(data)"
      ],
      "metadata": {
        "colab": {
          "base_uri": "https://localhost:8080/"
        },
        "id": "VowiyDBFNWAC",
        "outputId": "5ac0c6d7-5e1f-407f-a62a-d723c1dd761e"
      },
      "execution_count": null,
      "outputs": [
        {
          "output_type": "stream",
          "name": "stdout",
          "text": [
            "[[0.0, 89.9, 0.010758129449991079], [0.0, 89.31, 0.013541722908998147], [0.0, 19.42, 0.0105247573974805], [0.0, 10.0, 0.01057653090892694], [0.0, 10.0, 0.010656688457880264], [0.0, 10.0, 0.010625059788043682], [0.0, 10.0, 0.01126955869870308], [0.0, 10.0, 0.011066348124773074], [0.0, 10.0, 0.01054756610821455], [0.0, 10.0, 0.010651837556790084]]\n"
          ]
        }
      ]
    },
    {
      "cell_type": "code",
      "source": [
        "data2 = [[0.0, 89.9, 0.010758129449991079], [25.0, 89.31, 0.013541722908998147], [50.0, 19.42, 0.0105247573974805], [60.0, 10.0, 0.01057653090892694], [70.0, 10.0, 0.010656688457880264], [80.0, 10.0, 0.010625059788043682], [90.0, 10.0, 0.01126955869870308], [95.0, 10.0, 0.011066348124773074], [97.0, 10.0, 0.01054756610821455], [99.0, 10.0, 0.010651837556790084]]"
      ],
      "metadata": {
        "id": "gG-ZMUBwNZrX"
      },
      "execution_count": null,
      "outputs": []
    },
    {
      "cell_type": "code",
      "source": [
        "\n",
        "# Plot sparsity/accuracy table\n",
        "import pandas as pd\n",
        "df = pd.DataFrame(data2,columns=['% Sparsity', '% Accuracy',\"Execution Time\"])\n",
        "print(df) "
      ],
      "metadata": {
        "colab": {
          "base_uri": "https://localhost:8080/"
        },
        "id": "PUhjQqtPpVVr",
        "outputId": "5b4b5304-4134-4a48-c5f5-4fa735909cb8"
      },
      "execution_count": null,
      "outputs": [
        {
          "output_type": "stream",
          "name": "stdout",
          "text": [
            "   % Sparsity  % Accuracy  Execution Time\n",
            "0         0.0       89.90        0.010758\n",
            "1        25.0       89.31        0.013542\n",
            "2        50.0       19.42        0.010525\n",
            "3        60.0       10.00        0.010577\n",
            "4        70.0       10.00        0.010657\n",
            "5        80.0       10.00        0.010625\n",
            "6        90.0       10.00        0.011270\n",
            "7        95.0       10.00        0.011066\n",
            "8        97.0       10.00        0.010548\n",
            "9        99.0       10.00        0.010652\n"
          ]
        }
      ]
    },
    {
      "cell_type": "code",
      "source": [
        "# Plot accuracy plot for weight pruning\n",
        "df.plot(kind='line', x = '% Sparsity', y='% Accuracy', color='green')\n",
        "plt.title('Accuracy plot for Weight Pruning')\n",
        "plt.show()"
      ],
      "metadata": {
        "colab": {
          "base_uri": "https://localhost:8080/",
          "height": 295
        },
        "id": "xnMy6DAopcJM",
        "outputId": "da7d6a1e-e641-496a-99b7-e4ed0940eae8"
      },
      "execution_count": null,
      "outputs": [
        {
          "output_type": "display_data",
          "data": {
            "text/plain": [
              "<Figure size 432x288 with 1 Axes>"
            ],
            "image/png": "[encoded data removed]"
          },
          "metadata": {
            "needs_background": "light"
          }
        }
      ]
    },
    {
      "cell_type": "code",
      "source": [
        "df.plot(kind = 'line', x = '% Sparsity', y = \"Execution Time\", color = 'blue')\n",
        "plt.title(\"Execution Time plot for Weight Pruning\")\n",
        "plt.show()"
      ],
      "metadata": {
        "colab": {
          "base_uri": "https://localhost:8080/",
          "height": 295
        },
        "id": "Mz3wQfSopfXy",
        "outputId": "23333906-1000-4ccb-cdb0-e1566b4c5953"
      },
      "execution_count": null,
      "outputs": [
        {
          "output_type": "display_data",
          "data": {
            "text/plain": [
              "<Figure size 432x288 with 1 Axes>"
            ],
            "image/png": "[encoded data removed]"
          },
          "metadata": {
            "needs_background": "light"
          }
        }
      ]
    }
  ]
}